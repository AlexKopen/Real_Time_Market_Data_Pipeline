{
 "cells": [
  {
   "cell_type": "markdown",
   "id": "838e275c",
   "metadata": {},
   "source": [
    "# Real Time Data Stream\n",
    "\n",
    "This project is to start a real time data feed and build infrastructure needed to maintain it."
   ]
  },
  {
   "cell_type": "markdown",
   "id": "80eb19c0",
   "metadata": {},
   "source": [
    "### Provider Selection:\n",
    "\n",
    "- Alpha Vantage\n",
    "- Finnhub\n",
    "    api key: d0amcgpr01qm3l9meas0d0amcgpr01qm3l9measg"
   ]
  },
  {
   "cell_type": "code",
   "execution_count": null,
   "id": "0077cf35",
   "metadata": {},
   "outputs": [
    {
     "name": "stdout",
     "output_type": "stream",
     "text": [
      "{'c': 96671.21, 'd': -257.37, 'dp': -0.2655, 'h': 97895.68, 'l': 96350, 'o': 96928.58, 'pc': 96928.58, 't': 1746233291}\n"
     ]
    }
   ],
   "source": [
    "# import finnhub\n",
    "\n",
    "# # Setup client\n",
    "# finnhub_client = finnhub.Client(api_key=\"d0amcgpr01qm3l9meas0d0amcgpr01qm3l9measg\")\n",
    "\n",
    "# quote = finnhub_client.quote('BINANCE:BTCUSDT')\n",
    "# print(quote)"
   ]
  },
  {
   "cell_type": "code",
   "execution_count": 11,
   "id": "09c0c37e",
   "metadata": {},
   "outputs": [
    {
     "name": "stderr",
     "output_type": "stream",
     "text": [
      "--- request header ---\n",
      "GET /?token=d0amcgpr01qm3l9meas0d0amcgpr01qm3l9measg HTTP/1.1\n",
      "Upgrade: websocket\n",
      "Host: ws.finnhub.io\n",
      "Origin: https://ws.finnhub.io\n",
      "Sec-WebSocket-Key: QBkJCCfBxKC/zhgq1JfLmQ==\n",
      "Sec-WebSocket-Version: 13\n",
      "Connection: Upgrade\n",
      "\n",
      "\n",
      "-----------------------\n",
      "--- response header ---\n",
      "HTTP/1.1 101 Switching Protocols\n",
      "Server: nginx/1.18.0\n",
      "Date: Sat, 03 May 2025 00:59:32 GMT\n",
      "Connection: upgrade\n",
      "Upgrade: websocket\n",
      "Sec-WebSocket-Accept: ZF8QH2Agh4pnLEin7ihokfJ9WO4=\n",
      "-----------------------\n",
      "Websocket connected\n",
      "++Sent raw: b\"\\x81\\xafFW\\x1fd=uk\\x1d62=^d$j\\x0654m\\r$2=Hd$f\\t$8sF|u]-\\x08\\x16Q'\\x03m]0\\x05\\x02L \\x12ub\"\n",
      "++Sent decoded: fin=1 opcode=1 data=b'{\"type\":\"subscribe\",\"symbol\":\"BINANCE:BTCUSDT\"}'\n",
      "++Rcv raw: b'\\x81~\\x00\\xb1{\"data\":[{\"c\":null,\"p\":96700.45,\"s\":\"BINANCE:BTCUSDT\",\"t\":1746233972992,\"v\":0.00009},{\"c\":null,\"p\":96700.45,\"s\":\"BINANCE:BTCUSDT\",\"t\":1746233973365,\"v\":0.00025}],\"type\":\"trade\"}'\n",
      "++Rcv decoded: fin=1 opcode=1 data=b'{\"data\":[{\"c\":null,\"p\":96700.45,\"s\":\"BINANCE:BTCUSDT\",\"t\":1746233972992,\"v\":0.00009},{\"c\":null,\"p\":96700.45,\"s\":\"BINANCE:BTCUSDT\",\"t\":1746233973365,\"v\":0.00025}],\"type\":\"trade\"}'\n"
     ]
    },
    {
     "name": "stdout",
     "output_type": "stream",
     "text": [
      "{\n",
      "  \"data\": [\n",
      "    {\n",
      "      \"c\": null,\n",
      "      \"p\": 96700.45,\n",
      "      \"s\": \"BINANCE:BTCUSDT\",\n",
      "      \"t\": 1746233972992,\n",
      "      \"v\": 9e-05\n",
      "    },\n",
      "    {\n",
      "      \"c\": null,\n",
      "      \"p\": 96700.45,\n",
      "      \"s\": \"BINANCE:BTCUSDT\",\n",
      "      \"t\": 1746233973365,\n",
      "      \"v\": 0.00025\n",
      "    }\n",
      "  ],\n",
      "  \"type\": \"trade\"\n",
      "}\n",
      "{\"data\":[{\"c\":null,\"p\":96700.45,\"s\":\"BINANCE:BTCUSDT\",\"t\":1746233972992,\"v\":0.00009},{\"c\":null,\"p\":96700.45,\"s\":\"BINANCE:BTCUSDT\",\"t\":1746233973365,\"v\":0.00025}],\"type\":\"trade\"}\n"
     ]
    },
    {
     "name": "stderr",
     "output_type": "stream",
     "text": [
      "++Rcv raw: b'\\x81e{\"data\":[{\"c\":null,\"p\":96700.46,\"s\":\"BINANCE:BTCUSDT\",\"t\":1746233973872,\"v\":0.00083}],\"type\":\"trade\"}'\n",
      "++Rcv decoded: fin=1 opcode=1 data=b'{\"data\":[{\"c\":null,\"p\":96700.46,\"s\":\"BINANCE:BTCUSDT\",\"t\":1746233973872,\"v\":0.00083}],\"type\":\"trade\"}'\n"
     ]
    },
    {
     "name": "stdout",
     "output_type": "stream",
     "text": [
      "{\"data\":[{\"c\":null,\"p\":96700.46,\"s\":\"BINANCE:BTCUSDT\",\"t\":1746233973872,\"v\":0.00083}],\"type\":\"trade\"}\n"
     ]
    },
    {
     "name": "stderr",
     "output_type": "stream",
     "text": [
      "++Rcv raw: b'\\x81e{\"data\":[{\"c\":null,\"p\":96700.46,\"s\":\"BINANCE:BTCUSDT\",\"t\":1746233975975,\"v\":0.00064}],\"type\":\"trade\"}'\n",
      "++Rcv decoded: fin=1 opcode=1 data=b'{\"data\":[{\"c\":null,\"p\":96700.46,\"s\":\"BINANCE:BTCUSDT\",\"t\":1746233975975,\"v\":0.00064}],\"type\":\"trade\"}'\n"
     ]
    },
    {
     "name": "stdout",
     "output_type": "stream",
     "text": [
      "{\"data\":[{\"c\":null,\"p\":96700.46,\"s\":\"BINANCE:BTCUSDT\",\"t\":1746233975975,\"v\":0.00064}],\"type\":\"trade\"}\n"
     ]
    },
    {
     "name": "stderr",
     "output_type": "stream",
     "text": [
      "++Rcv raw: b'\\x81~\\x01\\xe1{\"data\":[{\"c\":null,\"p\":96700.45,\"s\":\"BINANCE:BTCUSDT\",\"t\":1746233976795,\"v\":0.02358},{\"c\":null,\"p\":96700.45,\"s\":\"BINANCE:BTCUSDT\",\"t\":1746233976933,\"v\":0.00449},{\"c\":null,\"p\":96700.45,\"s\":\"BINANCE:BTCUSDT\",\"t\":1746233977221,\"v\":0.00012},{\"c\":null,\"p\":96700.45,\"s\":\"BINANCE:BTCUSDT\",\"t\":1746233977776,\"v\":0.10458},{\"c\":null,\"p\":96700.46,\"s\":\"BINANCE:BTCUSDT\",\"t\":1746233977646,\"v\":0.00248},{\"c\":null,\"p\":96700.46,\"s\":\"BINANCE:BTCUSDT\",\"t\":1746233977661,\"v\":0.01148}],\"type\":\"trade\"}'\n",
      "++Rcv decoded: fin=1 opcode=1 data=b'{\"data\":[{\"c\":null,\"p\":96700.45,\"s\":\"BINANCE:BTCUSDT\",\"t\":1746233976795,\"v\":0.02358},{\"c\":null,\"p\":96700.45,\"s\":\"BINANCE:BTCUSDT\",\"t\":1746233976933,\"v\":0.00449},{\"c\":null,\"p\":96700.45,\"s\":\"BINANCE:BTCUSDT\",\"t\":1746233977221,\"v\":0.00012},{\"c\":null,\"p\":96700.45,\"s\":\"BINANCE:BTCUSDT\",\"t\":1746233977776,\"v\":0.10458},{\"c\":null,\"p\":96700.46,\"s\":\"BINANCE:BTCUSDT\",\"t\":1746233977646,\"v\":0.00248},{\"c\":null,\"p\":96700.46,\"s\":\"BINANCE:BTCUSDT\",\"t\":1746233977661,\"v\":0.01148}],\"type\":\"trade\"}'\n"
     ]
    },
    {
     "name": "stdout",
     "output_type": "stream",
     "text": [
      "{\"data\":[{\"c\":null,\"p\":96700.45,\"s\":\"BINANCE:BTCUSDT\",\"t\":1746233976795,\"v\":0.02358},{\"c\":null,\"p\":96700.45,\"s\":\"BINANCE:BTCUSDT\",\"t\":1746233976933,\"v\":0.00449},{\"c\":null,\"p\":96700.45,\"s\":\"BINANCE:BTCUSDT\",\"t\":1746233977221,\"v\":0.00012},{\"c\":null,\"p\":96700.45,\"s\":\"BINANCE:BTCUSDT\",\"t\":1746233977776,\"v\":0.10458},{\"c\":null,\"p\":96700.46,\"s\":\"BINANCE:BTCUSDT\",\"t\":1746233977646,\"v\":0.00248},{\"c\":null,\"p\":96700.46,\"s\":\"BINANCE:BTCUSDT\",\"t\":1746233977661,\"v\":0.01148}],\"type\":\"trade\"}\n"
     ]
    },
    {
     "name": "stderr",
     "output_type": "stream",
     "text": [
      "++Rcv raw: b'\\x81e{\"data\":[{\"c\":null,\"p\":96700.46,\"s\":\"BINANCE:BTCUSDT\",\"t\":1746233977801,\"v\":0.00148}],\"type\":\"trade\"}'\n",
      "++Rcv decoded: fin=1 opcode=1 data=b'{\"data\":[{\"c\":null,\"p\":96700.46,\"s\":\"BINANCE:BTCUSDT\",\"t\":1746233977801,\"v\":0.00148}],\"type\":\"trade\"}'\n"
     ]
    },
    {
     "name": "stdout",
     "output_type": "stream",
     "text": [
      "{\n",
      "  \"data\": [\n",
      "    {\n",
      "      \"c\": null,\n",
      "      \"p\": 96700.46,\n",
      "      \"s\": \"BINANCE:BTCUSDT\",\n",
      "      \"t\": 1746233977801,\n",
      "      \"v\": 0.00148\n",
      "    }\n",
      "  ],\n",
      "  \"type\": \"trade\"\n",
      "}\n",
      "{\"data\":[{\"c\":null,\"p\":96700.46,\"s\":\"BINANCE:BTCUSDT\",\"t\":1746233977801,\"v\":0.00148}],\"type\":\"trade\"}\n"
     ]
    },
    {
     "name": "stderr",
     "output_type": "stream",
     "text": [
      "++Rcv raw: b'\\x81~\\x01I{\"data\":[{\"c\":null,\"p\":96700.45,\"s\":\"BINANCE:BTCUSDT\",\"t\":1746233978999,\"v\":0.08274},{\"c\":null,\"p\":96700.46,\"s\":\"BINANCE:BTCUSDT\",\"t\":1746233979260,\"v\":0.00013},{\"c\":null,\"p\":96700.46,\"s\":\"BINANCE:BTCUSDT\",\"t\":1746233979280,\"v\":0.01033},{\"c\":null,\"p\":96700.46,\"s\":\"BINANCE:BTCUSDT\",\"t\":1746233979298,\"v\":0.00037}],\"type\":\"trade\"}'\n",
      "++Rcv decoded: fin=1 opcode=1 data=b'{\"data\":[{\"c\":null,\"p\":96700.45,\"s\":\"BINANCE:BTCUSDT\",\"t\":1746233978999,\"v\":0.08274},{\"c\":null,\"p\":96700.46,\"s\":\"BINANCE:BTCUSDT\",\"t\":1746233979260,\"v\":0.00013},{\"c\":null,\"p\":96700.46,\"s\":\"BINANCE:BTCUSDT\",\"t\":1746233979280,\"v\":0.01033},{\"c\":null,\"p\":96700.46,\"s\":\"BINANCE:BTCUSDT\",\"t\":1746233979298,\"v\":0.00037}],\"type\":\"trade\"}'\n"
     ]
    },
    {
     "name": "stdout",
     "output_type": "stream",
     "text": [
      "{\"data\":[{\"c\":null,\"p\":96700.45,\"s\":\"BINANCE:BTCUSDT\",\"t\":1746233978999,\"v\":0.08274},{\"c\":null,\"p\":96700.46,\"s\":\"BINANCE:BTCUSDT\",\"t\":1746233979260,\"v\":0.00013},{\"c\":null,\"p\":96700.46,\"s\":\"BINANCE:BTCUSDT\",\"t\":1746233979280,\"v\":0.01033},{\"c\":null,\"p\":96700.46,\"s\":\"BINANCE:BTCUSDT\",\"t\":1746233979298,\"v\":0.00037}],\"type\":\"trade\"}\n"
     ]
    },
    {
     "name": "stderr",
     "output_type": "stream",
     "text": [
      "++Rcv raw: b'\\x81e{\"data\":[{\"c\":null,\"p\":96700.46,\"s\":\"BINANCE:BTCUSDT\",\"t\":1746233980153,\"v\":0.01299}],\"type\":\"trade\"}'\n",
      "++Rcv decoded: fin=1 opcode=1 data=b'{\"data\":[{\"c\":null,\"p\":96700.46,\"s\":\"BINANCE:BTCUSDT\",\"t\":1746233980153,\"v\":0.01299}],\"type\":\"trade\"}'\n"
     ]
    },
    {
     "name": "stdout",
     "output_type": "stream",
     "text": [
      "{\"data\":[{\"c\":null,\"p\":96700.46,\"s\":\"BINANCE:BTCUSDT\",\"t\":1746233980153,\"v\":0.01299}],\"type\":\"trade\"}\n"
     ]
    },
    {
     "name": "stderr",
     "output_type": "stream",
     "text": [
      "++Rcv raw: b'\\x81~\\x00\\xb1{\"data\":[{\"c\":null,\"p\":96700.46,\"s\":\"BINANCE:BTCUSDT\",\"t\":1746233981383,\"v\":0.00173},{\"c\":null,\"p\":96700.46,\"s\":\"BINANCE:BTCUSDT\",\"t\":1746233981397,\"v\":0.00009}],\"type\":\"trade\"}'\n",
      "++Rcv decoded: fin=1 opcode=1 data=b'{\"data\":[{\"c\":null,\"p\":96700.46,\"s\":\"BINANCE:BTCUSDT\",\"t\":1746233981383,\"v\":0.00173},{\"c\":null,\"p\":96700.46,\"s\":\"BINANCE:BTCUSDT\",\"t\":1746233981397,\"v\":0.00009}],\"type\":\"trade\"}'\n"
     ]
    },
    {
     "name": "stdout",
     "output_type": "stream",
     "text": [
      "{\"data\":[{\"c\":null,\"p\":96700.46,\"s\":\"BINANCE:BTCUSDT\",\"t\":1746233981383,\"v\":0.00173},{\"c\":null,\"p\":96700.46,\"s\":\"BINANCE:BTCUSDT\",\"t\":1746233981397,\"v\":0.00009}],\"type\":\"trade\"}\n"
     ]
    },
    {
     "name": "stderr",
     "output_type": "stream",
     "text": [
      "++Rcv raw: b'\\x81~\\x03\\xf5{\"data\":[{\"c\":null,\"p\":96700.46,\"s\":\"BINANCE:BTCUSDT\",\"t\":1746233982386,\"v\":0.00051},{\"c\":null,\"p\":96700.46,\"s\":\"BINANCE:BTCUSDT\",\"t\":1746233982476,\"v\":0.00826},{\"c\":null,\"p\":96700.46,\"s\":\"BINANCE:BTCUSDT\",\"t\":1746233982477,\"v\":0.00006},{\"c\":null,\"p\":96700.46,\"s\":\"BINANCE:BTCUSDT\",\"t\":1746233982477,\"v\":0.00006},{\"c\":null,\"p\":96700.46,\"s\":\"BINANCE:BTCUSDT\",\"t\":1746233982477,\"v\":0.00006},{\"c\":null,\"p\":96700.46,\"s\":\"BINANCE:BTCUSDT\",\"t\":1746233982477,\"v\":0.00006},{\"c\":null,\"p\":96700.46,\"s\":\"BINANCE:BTCUSDT\",\"t\":1746233982477,\"v\":0.00006},{\"c\":null,\"p\":96700.46,\"s\":\"BINANCE:BTCUSDT\",\"t\":1746233982477,\"v\":0.00006},{\"c\":null,\"p\":96700.46,\"s\":\"BINANCE:BTCUSDT\",\"t\":1746233982477,\"v\":0.00006},{\"c\":null,\"p\":96700.46,\"s\":\"BINANCE:BTCUSDT\",\"t\":1746233982477,\"v\":0.00006},{\"c\":null,\"p\":96700.46,\"s\":\"BINANCE:BTCUSDT\",\"t\":1746233982477,\"v\":0.00006},{\"c\":null,\"p\":96700.46,\"s\":\"BINANCE:BTCUSDT\",\"t\":1746233982477,\"v\":0.00006},{\"c\":null,\"p\":96700.46,\"s\":\"BINANCE:BTCUSDT\",\"t\":1746233982477,\"v\":0.00148}],\"type\":\"trade\"}'\n",
      "++Rcv decoded: fin=1 opcode=1 data=b'{\"data\":[{\"c\":null,\"p\":96700.46,\"s\":\"BINANCE:BTCUSDT\",\"t\":1746233982386,\"v\":0.00051},{\"c\":null,\"p\":96700.46,\"s\":\"BINANCE:BTCUSDT\",\"t\":1746233982476,\"v\":0.00826},{\"c\":null,\"p\":96700.46,\"s\":\"BINANCE:BTCUSDT\",\"t\":1746233982477,\"v\":0.00006},{\"c\":null,\"p\":96700.46,\"s\":\"BINANCE:BTCUSDT\",\"t\":1746233982477,\"v\":0.00006},{\"c\":null,\"p\":96700.46,\"s\":\"BINANCE:BTCUSDT\",\"t\":1746233982477,\"v\":0.00006},{\"c\":null,\"p\":96700.46,\"s\":\"BINANCE:BTCUSDT\",\"t\":1746233982477,\"v\":0.00006},{\"c\":null,\"p\":96700.46,\"s\":\"BINANCE:BTCUSDT\",\"t\":1746233982477,\"v\":0.00006},{\"c\":null,\"p\":96700.46,\"s\":\"BINANCE:BTCUSDT\",\"t\":1746233982477,\"v\":0.00006},{\"c\":null,\"p\":96700.46,\"s\":\"BINANCE:BTCUSDT\",\"t\":1746233982477,\"v\":0.00006},{\"c\":null,\"p\":96700.46,\"s\":\"BINANCE:BTCUSDT\",\"t\":1746233982477,\"v\":0.00006},{\"c\":null,\"p\":96700.46,\"s\":\"BINANCE:BTCUSDT\",\"t\":1746233982477,\"v\":0.00006},{\"c\":null,\"p\":96700.46,\"s\":\"BINANCE:BTCUSDT\",\"t\":1746233982477,\"v\":0.00006},{\"c\":null,\"p\":96700.46,\"s\":\"BINANCE:BTCUSDT\",\"t\":1746233982477,\"v\":0.00148}],\"type\":\"trade\"}'\n"
     ]
    },
    {
     "name": "stdout",
     "output_type": "stream",
     "text": [
      "{\"data\":[{\"c\":null,\"p\":96700.46,\"s\":\"BINANCE:BTCUSDT\",\"t\":1746233982386,\"v\":0.00051},{\"c\":null,\"p\":96700.46,\"s\":\"BINANCE:BTCUSDT\",\"t\":1746233982476,\"v\":0.00826},{\"c\":null,\"p\":96700.46,\"s\":\"BINANCE:BTCUSDT\",\"t\":1746233982477,\"v\":0.00006},{\"c\":null,\"p\":96700.46,\"s\":\"BINANCE:BTCUSDT\",\"t\":1746233982477,\"v\":0.00006},{\"c\":null,\"p\":96700.46,\"s\":\"BINANCE:BTCUSDT\",\"t\":1746233982477,\"v\":0.00006},{\"c\":null,\"p\":96700.46,\"s\":\"BINANCE:BTCUSDT\",\"t\":1746233982477,\"v\":0.00006},{\"c\":null,\"p\":96700.46,\"s\":\"BINANCE:BTCUSDT\",\"t\":1746233982477,\"v\":0.00006},{\"c\":null,\"p\":96700.46,\"s\":\"BINANCE:BTCUSDT\",\"t\":1746233982477,\"v\":0.00006},{\"c\":null,\"p\":96700.46,\"s\":\"BINANCE:BTCUSDT\",\"t\":1746233982477,\"v\":0.00006},{\"c\":null,\"p\":96700.46,\"s\":\"BINANCE:BTCUSDT\",\"t\":1746233982477,\"v\":0.00006},{\"c\":null,\"p\":96700.46,\"s\":\"BINANCE:BTCUSDT\",\"t\":1746233982477,\"v\":0.00006},{\"c\":null,\"p\":96700.46,\"s\":\"BINANCE:BTCUSDT\",\"t\":1746233982477,\"v\":0.00006},{\"c\":null,\"p\":96700.46,\"s\":\"BINANCE:BTCUSDT\",\"t\":1746233982477,\"v\":0.00148}],\"type\":\"trade\"}\n"
     ]
    },
    {
     "name": "stderr",
     "output_type": "stream",
     "text": [
      "++Rcv raw: b'\\x81~\\x02y{\"data\":[{\"c\":null,\"p\":96700.46,\"s\":\"BINANCE:BTCUSDT\",\"t\":1746233983264,\"v\":0.00007},{\"c\":null,\"p\":96700.46,\"s\":\"BINANCE:BTCUSDT\",\"t\":1746233983264,\"v\":0.00045},{\"c\":null,\"p\":96700.46,\"s\":\"BINANCE:BTCUSDT\",\"t\":1746233983264,\"v\":0.00044},{\"c\":null,\"p\":96700.46,\"s\":\"BINANCE:BTCUSDT\",\"t\":1746233983264,\"v\":0.00006},{\"c\":null,\"p\":96700.46,\"s\":\"BINANCE:BTCUSDT\",\"t\":1746233983264,\"v\":0.00155},{\"c\":null,\"p\":96700.46,\"s\":\"BINANCE:BTCUSDT\",\"t\":1746233983418,\"v\":0.00007},{\"c\":null,\"p\":96700.46,\"s\":\"BINANCE:BTCUSDT\",\"t\":1746233983465,\"v\":0.00044},{\"c\":null,\"p\":96700.45,\"s\":\"BINANCE:BTCUSDT\",\"t\":1746233983551,\"v\":0.00045}],\"type\":\"trade\"}'\n",
      "++Rcv decoded: fin=1 opcode=1 data=b'{\"data\":[{\"c\":null,\"p\":96700.46,\"s\":\"BINANCE:BTCUSDT\",\"t\":1746233983264,\"v\":0.00007},{\"c\":null,\"p\":96700.46,\"s\":\"BINANCE:BTCUSDT\",\"t\":1746233983264,\"v\":0.00045},{\"c\":null,\"p\":96700.46,\"s\":\"BINANCE:BTCUSDT\",\"t\":1746233983264,\"v\":0.00044},{\"c\":null,\"p\":96700.46,\"s\":\"BINANCE:BTCUSDT\",\"t\":1746233983264,\"v\":0.00006},{\"c\":null,\"p\":96700.46,\"s\":\"BINANCE:BTCUSDT\",\"t\":1746233983264,\"v\":0.00155},{\"c\":null,\"p\":96700.46,\"s\":\"BINANCE:BTCUSDT\",\"t\":1746233983418,\"v\":0.00007},{\"c\":null,\"p\":96700.46,\"s\":\"BINANCE:BTCUSDT\",\"t\":1746233983465,\"v\":0.00044},{\"c\":null,\"p\":96700.45,\"s\":\"BINANCE:BTCUSDT\",\"t\":1746233983551,\"v\":0.00045}],\"type\":\"trade\"}'\n"
     ]
    },
    {
     "name": "stdout",
     "output_type": "stream",
     "text": [
      "{\n",
      "  \"data\": [\n",
      "    {\n",
      "      \"c\": null,\n",
      "      \"p\": 96700.46,\n",
      "      \"s\": \"BINANCE:BTCUSDT\",\n",
      "      \"t\": 1746233983264,\n",
      "      \"v\": 7e-05\n",
      "    },\n",
      "    {\n",
      "      \"c\": null,\n",
      "      \"p\": 96700.46,\n",
      "      \"s\": \"BINANCE:BTCUSDT\",\n",
      "      \"t\": 1746233983264,\n",
      "      \"v\": 0.00045\n",
      "    },\n",
      "    {\n",
      "      \"c\": null,\n",
      "      \"p\": 96700.46,\n",
      "      \"s\": \"BINANCE:BTCUSDT\",\n",
      "      \"t\": 1746233983264,\n",
      "      \"v\": 0.00044\n",
      "    },\n",
      "    {\n",
      "      \"c\": null,\n",
      "      \"p\": 96700.46,\n",
      "      \"s\": \"BINANCE:BTCUSDT\",\n",
      "      \"t\": 1746233983264,\n",
      "      \"v\": 6e-05\n",
      "    },\n",
      "    {\n",
      "      \"c\": null,\n",
      "      \"p\": 96700.46,\n",
      "      \"s\": \"BINANCE:BTCUSDT\",\n",
      "      \"t\": 1746233983264,\n",
      "      \"v\": 0.00155\n",
      "    },\n",
      "    {\n",
      "      \"c\": null,\n",
      "      \"p\": 96700.46,\n",
      "      \"s\": \"BINANCE:BTCUSDT\",\n",
      "      \"t\": 1746233983418,\n",
      "      \"v\": 7e-05\n",
      "    },\n",
      "    {\n",
      "      \"c\": null,\n",
      "      \"p\": 96700.46,\n",
      "      \"s\": \"BINANCE:BTCUSDT\",\n",
      "      \"t\": 1746233983465,\n",
      "      \"v\": 0.00044\n",
      "    },\n",
      "    {\n",
      "      \"c\": null,\n",
      "      \"p\": 96700.45,\n",
      "      \"s\": \"BINANCE:BTCUSDT\",\n",
      "      \"t\": 1746233983551,\n",
      "      \"v\": 0.00045\n",
      "    }\n",
      "  ],\n",
      "  \"type\": \"trade\"\n",
      "}\n",
      "{\"data\":[{\"c\":null,\"p\":96700.46,\"s\":\"BINANCE:BTCUSDT\",\"t\":1746233983264,\"v\":0.00007},{\"c\":null,\"p\":96700.46,\"s\":\"BINANCE:BTCUSDT\",\"t\":1746233983264,\"v\":0.00045},{\"c\":null,\"p\":96700.46,\"s\":\"BINANCE:BTCUSDT\",\"t\":1746233983264,\"v\":0.00044},{\"c\":null,\"p\":96700.46,\"s\":\"BINANCE:BTCUSDT\",\"t\":1746233983264,\"v\":0.00006},{\"c\":null,\"p\":96700.46,\"s\":\"BINANCE:BTCUSDT\",\"t\":1746233983264,\"v\":0.00155},{\"c\":null,\"p\":96700.46,\"s\":\"BINANCE:BTCUSDT\",\"t\":1746233983418,\"v\":0.00007},{\"c\":null,\"p\":96700.46,\"s\":\"BINANCE:BTCUSDT\",\"t\":1746233983465,\"v\":0.00044},{\"c\":null,\"p\":96700.45,\"s\":\"BINANCE:BTCUSDT\",\"t\":1746233983551,\"v\":0.00045}],\"type\":\"trade\"}\n"
     ]
    },
    {
     "name": "stderr",
     "output_type": "stream",
     "text": [
      "++Rcv raw: b'\\x81~\\x00\\xfd{\"data\":[{\"c\":null,\"p\":96700.45,\"s\":\"BINANCE:BTCUSDT\",\"t\":1746233983945,\"v\":0.00155},{\"c\":null,\"p\":96700.45,\"s\":\"BINANCE:BTCUSDT\",\"t\":1746233984051,\"v\":0.00095},{\"c\":null,\"p\":96700.46,\"s\":\"BINANCE:BTCUSDT\",\"t\":1746233984483,\"v\":0.00022}],\"type\":\"trade\"}'\n",
      "++Rcv decoded: fin=1 opcode=1 data=b'{\"data\":[{\"c\":null,\"p\":96700.45,\"s\":\"BINANCE:BTCUSDT\",\"t\":1746233983945,\"v\":0.00155},{\"c\":null,\"p\":96700.45,\"s\":\"BINANCE:BTCUSDT\",\"t\":1746233984051,\"v\":0.00095},{\"c\":null,\"p\":96700.46,\"s\":\"BINANCE:BTCUSDT\",\"t\":1746233984483,\"v\":0.00022}],\"type\":\"trade\"}'\n"
     ]
    },
    {
     "name": "stdout",
     "output_type": "stream",
     "text": [
      "{\"data\":[{\"c\":null,\"p\":96700.45,\"s\":\"BINANCE:BTCUSDT\",\"t\":1746233983945,\"v\":0.00155},{\"c\":null,\"p\":96700.45,\"s\":\"BINANCE:BTCUSDT\",\"t\":1746233984051,\"v\":0.00095},{\"c\":null,\"p\":96700.46,\"s\":\"BINANCE:BTCUSDT\",\"t\":1746233984483,\"v\":0.00022}],\"type\":\"trade\"}\n"
     ]
    },
    {
     "name": "stderr",
     "output_type": "stream",
     "text": [
      "++Rcv raw: b'\\x81~\\x00\\xfd{\"data\":[{\"c\":null,\"p\":96700.45,\"s\":\"BINANCE:BTCUSDT\",\"t\":1746233985201,\"v\":0.00193},{\"c\":null,\"p\":96700.45,\"s\":\"BINANCE:BTCUSDT\",\"t\":1746233985477,\"v\":0.00048},{\"c\":null,\"p\":96700.45,\"s\":\"BINANCE:BTCUSDT\",\"t\":1746233985500,\"v\":0.00073}],\"type\":\"trade\"}'\n",
      "++Rcv decoded: fin=1 opcode=1 data=b'{\"data\":[{\"c\":null,\"p\":96700.45,\"s\":\"BINANCE:BTCUSDT\",\"t\":1746233985201,\"v\":0.00193},{\"c\":null,\"p\":96700.45,\"s\":\"BINANCE:BTCUSDT\",\"t\":1746233985477,\"v\":0.00048},{\"c\":null,\"p\":96700.45,\"s\":\"BINANCE:BTCUSDT\",\"t\":1746233985500,\"v\":0.00073}],\"type\":\"trade\"}'\n"
     ]
    },
    {
     "name": "stdout",
     "output_type": "stream",
     "text": [
      "{\"data\":[{\"c\":null,\"p\":96700.45,\"s\":\"BINANCE:BTCUSDT\",\"t\":1746233985201,\"v\":0.00193},{\"c\":null,\"p\":96700.45,\"s\":\"BINANCE:BTCUSDT\",\"t\":1746233985477,\"v\":0.00048},{\"c\":null,\"p\":96700.45,\"s\":\"BINANCE:BTCUSDT\",\"t\":1746233985500,\"v\":0.00073}],\"type\":\"trade\"}\n"
     ]
    },
    {
     "name": "stderr",
     "output_type": "stream",
     "text": [
      "++Rcv raw: b'\\x81~\\x02-{\"data\":[{\"c\":null,\"p\":96700.46,\"s\":\"BINANCE:BTCUSDT\",\"t\":1746233987196,\"v\":0.00062},{\"c\":null,\"p\":96700.45,\"s\":\"BINANCE:BTCUSDT\",\"t\":1746233987234,\"v\":0.00021},{\"c\":null,\"p\":96700.46,\"s\":\"BINANCE:BTCUSDT\",\"t\":1746233987428,\"v\":0.00155},{\"c\":null,\"p\":96700.46,\"s\":\"BINANCE:BTCUSDT\",\"t\":1746233987514,\"v\":0.00055},{\"c\":null,\"p\":96700.46,\"s\":\"BINANCE:BTCUSDT\",\"t\":1746233987514,\"v\":0.00085},{\"c\":null,\"p\":96700.45,\"s\":\"BINANCE:BTCUSDT\",\"t\":1746233987742,\"v\":0.00009},{\"c\":null,\"p\":96700.45,\"s\":\"BINANCE:BTCUSDT\",\"t\":1746233987808,\"v\":0.00776}],\"type\":\"trade\"}'\n",
      "++Rcv decoded: fin=1 opcode=1 data=b'{\"data\":[{\"c\":null,\"p\":96700.46,\"s\":\"BINANCE:BTCUSDT\",\"t\":1746233987196,\"v\":0.00062},{\"c\":null,\"p\":96700.45,\"s\":\"BINANCE:BTCUSDT\",\"t\":1746233987234,\"v\":0.00021},{\"c\":null,\"p\":96700.46,\"s\":\"BINANCE:BTCUSDT\",\"t\":1746233987428,\"v\":0.00155},{\"c\":null,\"p\":96700.46,\"s\":\"BINANCE:BTCUSDT\",\"t\":1746233987514,\"v\":0.00055},{\"c\":null,\"p\":96700.46,\"s\":\"BINANCE:BTCUSDT\",\"t\":1746233987514,\"v\":0.00085},{\"c\":null,\"p\":96700.45,\"s\":\"BINANCE:BTCUSDT\",\"t\":1746233987742,\"v\":0.00009},{\"c\":null,\"p\":96700.45,\"s\":\"BINANCE:BTCUSDT\",\"t\":1746233987808,\"v\":0.00776}],\"type\":\"trade\"}'\n"
     ]
    },
    {
     "name": "stdout",
     "output_type": "stream",
     "text": [
      "{\"data\":[{\"c\":null,\"p\":96700.46,\"s\":\"BINANCE:BTCUSDT\",\"t\":1746233987196,\"v\":0.00062},{\"c\":null,\"p\":96700.45,\"s\":\"BINANCE:BTCUSDT\",\"t\":1746233987234,\"v\":0.00021},{\"c\":null,\"p\":96700.46,\"s\":\"BINANCE:BTCUSDT\",\"t\":1746233987428,\"v\":0.00155},{\"c\":null,\"p\":96700.46,\"s\":\"BINANCE:BTCUSDT\",\"t\":1746233987514,\"v\":0.00055},{\"c\":null,\"p\":96700.46,\"s\":\"BINANCE:BTCUSDT\",\"t\":1746233987514,\"v\":0.00085},{\"c\":null,\"p\":96700.45,\"s\":\"BINANCE:BTCUSDT\",\"t\":1746233987742,\"v\":0.00009},{\"c\":null,\"p\":96700.45,\"s\":\"BINANCE:BTCUSDT\",\"t\":1746233987808,\"v\":0.00776}],\"type\":\"trade\"}\n"
     ]
    },
    {
     "name": "stderr",
     "output_type": "stream",
     "text": [
      "++Sent raw: b'\\x88\\x82\\xbf\\xb3\\x1d\\xca\\xbc['\n",
      "++Sent decoded: fin=1 opcode=8 data=b'\\x03\\xe8'\n",
      "error from callback <function on_close at 0x0000019BA26A34C0>: on_close() takes 1 positional argument but 3 were given\n",
      "tearing down on exception \n"
     ]
    },
    {
     "name": "stdout",
     "output_type": "stream",
     "text": [
      "\n",
      "on_close() takes 1 positional argument but 3 were given\n"
     ]
    }
   ],
   "source": [
    "import websocket\n",
    "import time\n",
    "import json\n",
    "\n",
    "last_update = 0\n",
    "THROTTLE_SECONDS = 5  # Limit to one message every 5 seconds\n",
    "\n",
    "def on_message(ws, message):\n",
    "    global last_update\n",
    "    current_time = time.time()\n",
    "    if current_time - last_update >= THROTTLE_SECONDS:\n",
    "        data = json.loads(message)\n",
    "        print(json.dumps(data, indent=2))  # Pretty print the message\n",
    "        last_update = current_time\n",
    "    print(message)\n",
    "\n",
    "def on_error(ws, error):\n",
    "    print(error)\n",
    "\n",
    "def on_close(ws):\n",
    "    print(\"### closed ###\")\n",
    "\n",
    "def on_open(ws):\n",
    "    # ws.send('{\"type\":\"subscribe\",\"symbol\":\"AAPL\"}')\n",
    "    # ws.send('{\"type\":\"subscribe\",\"symbol\":\"AMZN\"}')\n",
    "    ws.send('{\"type\":\"subscribe\",\"symbol\":\"BINANCE:BTCUSDT\"}')\n",
    "    # ws.send('{\"type\":\"subscribe\",\"symbol\":\"IC MARKETS:1\"}')\n",
    "\n",
    "if __name__ == \"__main__\":\n",
    "    websocket.enableTrace(True)\n",
    "    ws = websocket.WebSocketApp(\"wss://ws.finnhub.io?token=d0amcgpr01qm3l9meas0d0amcgpr01qm3l9measg\",\n",
    "                              on_message = on_message,\n",
    "                              on_error = on_error,\n",
    "                              on_close = on_close)\n",
    "    ws.on_open = on_open\n",
    "    ws.run_forever(ping_interval=5000)"
   ]
  }
 ],
 "metadata": {
  "kernelspec": {
   "display_name": "base",
   "language": "python",
   "name": "python3"
  },
  "language_info": {
   "codemirror_mode": {
    "name": "ipython",
    "version": 3
   },
   "file_extension": ".py",
   "mimetype": "text/x-python",
   "name": "python",
   "nbconvert_exporter": "python",
   "pygments_lexer": "ipython3",
   "version": "3.12.4"
  }
 },
 "nbformat": 4,
 "nbformat_minor": 5
}
