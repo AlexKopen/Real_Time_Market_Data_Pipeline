{
 "cells": [
  {
   "cell_type": "markdown",
   "id": "838e275c",
   "metadata": {},
   "source": [
    "# Real Time Data Stream\n",
    "\n",
    "This project is to start a real time data feed and build infrastructure needed to maintain it.\n",
    "\n",
    "The subject of our data stream will be financial data, specifically for Crypto which has as 24/7 market."
   ]
  },
  {
   "cell_type": "markdown",
   "id": "2a52ffd8",
   "metadata": {},
   "source": [
    "### Outline:\n",
    "1) Database\n",
    "2) API\n",
    "3) Data Storage\n",
    "4) Analysis\n",
    "5) Visualization"
   ]
  },
  {
   "cell_type": "markdown",
   "id": "25d26322",
   "metadata": {},
   "source": [
    "## Initialization"
   ]
  },
  {
   "cell_type": "code",
   "execution_count": 16,
   "id": "6242e9c0",
   "metadata": {},
   "outputs": [],
   "source": [
    "import pandas as pd\n",
    "import numpy as np\n",
    "import sqlite3 #needed for database\n",
    "#datastream imports\n",
    "import websocket\n",
    "import json\n",
    "import threading\n",
    "import time\n",
    "import atexit\n",
    "from datetime import datetime, timezone"
   ]
  },
  {
   "cell_type": "markdown",
   "id": "fc6aaf76",
   "metadata": {},
   "source": [
    "## Database"
   ]
  },
  {
   "cell_type": "markdown",
   "id": "2f500969",
   "metadata": {},
   "source": [
    "SQLite database to store the price data."
   ]
  },
  {
   "cell_type": "code",
   "execution_count": 17,
   "id": "dcf0f5ea",
   "metadata": {},
   "outputs": [],
   "source": [
    "conn = sqlite3.connect('db/pricing_data.db', check_same_thread=False) #establish connection to the database and enable multithreading\n",
    "c = conn.cursor() #create a cursor object\n",
    "\n",
    "#creating the pricing data table with predefined schema\n",
    "c.execute('''\n",
    "    CREATE TABLE IF NOT EXISTS price_ticks(\n",
    "          timestamp TEXT,\n",
    "          symbol TEXT,\n",
    "          price REAL,\n",
    "          volume REAL,\n",
    "          recieved_at TEXT)\n",
    "    ''')\n",
    "c.execute(\"DELETE FROM price_ticks\")\n",
    "\n",
    "conn.commit() #save these changes"
   ]
  },
  {
   "cell_type": "markdown",
   "id": "80eb19c0",
   "metadata": {},
   "source": [
    "## API\n",
    "\n",
    "Selecting a data provider that provides real time, free to publish data.\n",
    "\n",
    "Of the options, I am deciding on Finnhub. Other contenders were Alpha Vantage."
   ]
  },
  {
   "cell_type": "code",
   "execution_count": null,
   "id": "63420547",
   "metadata": {},
   "outputs": [
    {
     "name": "stderr",
     "output_type": "stream",
     "text": [
      "--- request header ---\n",
      "GET /?token=d0amcgpr01qm3l9meas0d0amcgpr01qm3l9measg HTTP/1.1\n",
      "Upgrade: websocket\n",
      "Host: ws.finnhub.io\n",
      "Origin: https://ws.finnhub.io\n",
      "Sec-WebSocket-Key: wpd3NV70vJbANZkCkeAsVg==\n",
      "Sec-WebSocket-Version: 13\n",
      "Connection: Upgrade\n",
      "\n",
      "\n",
      "-----------------------\n",
      "--- response header ---\n",
      "HTTP/1.1 101 Switching Protocols\n",
      "Server: nginx/1.18.0\n",
      "Date: Sat, 03 May 2025 20:01:36 GMT\n",
      "Connection: upgrade\n",
      "Upgrade: websocket\n",
      "Sec-WebSocket-Accept: OExEp8OOAC8ui4pouFThYNSugaY=\n",
      "-----------------------\n",
      "Websocket connected\n",
      "++Sent raw: b'\\x81\\xb2\\x9d\\xe2\\x82\\xcb\\xe6\\xc0\\xf6\\xb2\\xed\\x87\\xa0\\xf1\\xbd\\xc0\\xf1\\xbe\\xff\\x91\\xe1\\xb9\\xf4\\x80\\xe7\\xe9\\xb1\\xc2\\xa0\\xb8\\xe4\\x8f\\xe0\\xa4\\xf1\\xc0\\xb8\\xeb\\xbf\\xa0\\xcb\\x85\\xdc\\xac\\xc1\\x8e\\xa7\\xa7\\xd6\\x83\\xc8\\xb1\\xc6\\x9f\\xbf\\x9f'\n",
      "++Sent decoded: fin=1 opcode=1 data=b'{\"type\": \"subscribe\", \"symbol\": \"BINANCE:ETHUSDT\"}'\n"
     ]
    },
    {
     "name": "stdout",
     "output_type": "stream",
     "text": [
      "WebSocket connection opened\n"
     ]
    },
    {
     "name": "stderr",
     "output_type": "stream",
     "text": [
      "++Rcv raw: b'\\x81~\\x00\\xab{\"data\":[{\"c\":null,\"p\":1839.2,\"s\":\"BINANCE:ETHUSDT\",\"t\":1746302496935,\"v\":1.6885},{\"c\":null,\"p\":1839.2,\"s\":\"BINANCE:ETHUSDT\",\"t\":1746302496935,\"v\":0.3115}],\"type\":\"trade\"}'\n",
      "++Rcv decoded: fin=1 opcode=1 data=b'{\"data\":[{\"c\":null,\"p\":1839.2,\"s\":\"BINANCE:ETHUSDT\",\"t\":1746302496935,\"v\":1.6885},{\"c\":null,\"p\":1839.2,\"s\":\"BINANCE:ETHUSDT\",\"t\":1746302496935,\"v\":0.3115}],\"type\":\"trade\"}'\n"
     ]
    },
    {
     "name": "stdout",
     "output_type": "stream",
     "text": [
      "current row count at 0\n",
      "inserted('2025-05-03 20:01:36 UTC', 'BINANCE:ETHUSDT', 1839.2, 1.6885, '2025-05-03 20:01:38 UTC')\n",
      "current row count at 1\n",
      "inserted('2025-05-03 20:01:36 UTC', 'BINANCE:ETHUSDT', 1839.2, 0.3115, '2025-05-03 20:01:38 UTC')\n"
     ]
    },
    {
     "name": "stderr",
     "output_type": "stream",
     "text": [
      "++Rcv raw: b'\\x81~\\x01\\xd3{\"data\":[{\"c\":null,\"p\":1839.21,\"s\":\"BINANCE:ETHUSDT\",\"t\":1746302497764,\"v\":0.019},{\"c\":null,\"p\":1839.21,\"s\":\"BINANCE:ETHUSDT\",\"t\":1746302498110,\"v\":0.0049},{\"c\":null,\"p\":1839.21,\"s\":\"BINANCE:ETHUSDT\",\"t\":1746302498110,\"v\":0.0029},{\"c\":null,\"p\":1839.21,\"s\":\"BINANCE:ETHUSDT\",\"t\":1746302498110,\"v\":0.0032},{\"c\":null,\"p\":1839.21,\"s\":\"BINANCE:ETHUSDT\",\"t\":1746302498110,\"v\":0.0025},{\"c\":null,\"p\":1839.2,\"s\":\"BINANCE:ETHUSDT\",\"t\":1746302498316,\"v\":0.0054}],\"type\":\"trade\"}'\n",
      "++Rcv decoded: fin=1 opcode=1 data=b'{\"data\":[{\"c\":null,\"p\":1839.21,\"s\":\"BINANCE:ETHUSDT\",\"t\":1746302497764,\"v\":0.019},{\"c\":null,\"p\":1839.21,\"s\":\"BINANCE:ETHUSDT\",\"t\":1746302498110,\"v\":0.0049},{\"c\":null,\"p\":1839.21,\"s\":\"BINANCE:ETHUSDT\",\"t\":1746302498110,\"v\":0.0029},{\"c\":null,\"p\":1839.21,\"s\":\"BINANCE:ETHUSDT\",\"t\":1746302498110,\"v\":0.0032},{\"c\":null,\"p\":1839.21,\"s\":\"BINANCE:ETHUSDT\",\"t\":1746302498110,\"v\":0.0025},{\"c\":null,\"p\":1839.2,\"s\":\"BINANCE:ETHUSDT\",\"t\":1746302498316,\"v\":0.0054}],\"type\":\"trade\"}'\n"
     ]
    },
    {
     "name": "stdout",
     "output_type": "stream",
     "text": [
      "current row count at 2\n",
      "inserted('2025-05-03 20:01:37 UTC', 'BINANCE:ETHUSDT', 1839.21, 0.019, '2025-05-03 20:01:39 UTC')\n",
      "current row count at 3\n",
      "inserted('2025-05-03 20:01:38 UTC', 'BINANCE:ETHUSDT', 1839.21, 0.0049, '2025-05-03 20:01:39 UTC')\n",
      "current row count at 4\n",
      "inserted('2025-05-03 20:01:38 UTC', 'BINANCE:ETHUSDT', 1839.21, 0.0029, '2025-05-03 20:01:39 UTC')\n",
      "current row count at 5\n",
      "inserted('2025-05-03 20:01:38 UTC', 'BINANCE:ETHUSDT', 1839.21, 0.0032, '2025-05-03 20:01:39 UTC')\n",
      "current row count at 6\n",
      "inserted('2025-05-03 20:01:38 UTC', 'BINANCE:ETHUSDT', 1839.21, 0.0025, '2025-05-03 20:01:39 UTC')\n",
      "current row count at 7\n",
      "inserted('2025-05-03 20:01:38 UTC', 'BINANCE:ETHUSDT', 1839.2, 0.0054, '2025-05-03 20:01:39 UTC')\n"
     ]
    },
    {
     "name": "stderr",
     "output_type": "stream",
     "text": [
      "++Rcv raw: b'\\x81~\\x04${\"data\":[{\"c\":null,\"p\":1839.21,\"s\":\"BINANCE:ETHUSDT\",\"t\":1746302499117,\"v\":0.0003},{\"c\":null,\"p\":1839.21,\"s\":\"BINANCE:ETHUSDT\",\"t\":1746302499117,\"v\":0.0028},{\"c\":null,\"p\":1839.21,\"s\":\"BINANCE:ETHUSDT\",\"t\":1746302499117,\"v\":0.2596},{\"c\":null,\"p\":1839.21,\"s\":\"BINANCE:ETHUSDT\",\"t\":1746302499117,\"v\":0.0449},{\"c\":null,\"p\":1839.21,\"s\":\"BINANCE:ETHUSDT\",\"t\":1746302499117,\"v\":0.006},{\"c\":null,\"p\":1839.21,\"s\":\"BINANCE:ETHUSDT\",\"t\":1746302499117,\"v\":0.0028},{\"c\":null,\"p\":1839.21,\"s\":\"BINANCE:ETHUSDT\",\"t\":1746302499117,\"v\":0.0028},{\"c\":null,\"p\":1839.21,\"s\":\"BINANCE:ETHUSDT\",\"t\":1746302499117,\"v\":0.0028},{\"c\":null,\"p\":1839.21,\"s\":\"BINANCE:ETHUSDT\",\"t\":1746302499117,\"v\":0.0029},{\"c\":null,\"p\":1839.21,\"s\":\"BINANCE:ETHUSDT\",\"t\":1746302499117,\"v\":0.0032},{\"c\":null,\"p\":1839.21,\"s\":\"BINANCE:ETHUSDT\",\"t\":1746302499117,\"v\":0.0049},{\"c\":null,\"p\":1839.21,\"s\":\"BINANCE:ETHUSDT\",\"t\":1746302499117,\"v\":0.0028},{\"c\":null,\"p\":1839.21,\"s\":\"BINANCE:ETHUSDT\",\"t\":1746302499117,\"v\":0.6056},{\"c\":null,\"p\":1839.21,\"s\":\"BINANCE:ETHUSDT\",\"t\":1746302499117,\"v\":0.0028}],\"type\":\"trade\"}'\n",
      "++Rcv decoded: fin=1 opcode=1 data=b'{\"data\":[{\"c\":null,\"p\":1839.21,\"s\":\"BINANCE:ETHUSDT\",\"t\":1746302499117,\"v\":0.0003},{\"c\":null,\"p\":1839.21,\"s\":\"BINANCE:ETHUSDT\",\"t\":1746302499117,\"v\":0.0028},{\"c\":null,\"p\":1839.21,\"s\":\"BINANCE:ETHUSDT\",\"t\":1746302499117,\"v\":0.2596},{\"c\":null,\"p\":1839.21,\"s\":\"BINANCE:ETHUSDT\",\"t\":1746302499117,\"v\":0.0449},{\"c\":null,\"p\":1839.21,\"s\":\"BINANCE:ETHUSDT\",\"t\":1746302499117,\"v\":0.006},{\"c\":null,\"p\":1839.21,\"s\":\"BINANCE:ETHUSDT\",\"t\":1746302499117,\"v\":0.0028},{\"c\":null,\"p\":1839.21,\"s\":\"BINANCE:ETHUSDT\",\"t\":1746302499117,\"v\":0.0028},{\"c\":null,\"p\":1839.21,\"s\":\"BINANCE:ETHUSDT\",\"t\":1746302499117,\"v\":0.0028},{\"c\":null,\"p\":1839.21,\"s\":\"BINANCE:ETHUSDT\",\"t\":1746302499117,\"v\":0.0029},{\"c\":null,\"p\":1839.21,\"s\":\"BINANCE:ETHUSDT\",\"t\":1746302499117,\"v\":0.0032},{\"c\":null,\"p\":1839.21,\"s\":\"BINANCE:ETHUSDT\",\"t\":1746302499117,\"v\":0.0049},{\"c\":null,\"p\":1839.21,\"s\":\"BINANCE:ETHUSDT\",\"t\":1746302499117,\"v\":0.0028},{\"c\":null,\"p\":1839.21,\"s\":\"BINANCE:ETHUSDT\",\"t\":1746302499117,\"v\":0.6056},{\"c\":null,\"p\":1839.21,\"s\":\"BINANCE:ETHUSDT\",\"t\":1746302499117,\"v\":0.0028}],\"type\":\"trade\"}'\n",
      "++Sent raw: b'\\x88\\x82\\x89\\xfc}\\x9c\\x8a\\x14'\n",
      "++Sent decoded: fin=1 opcode=8 data=b'\\x03\\xe8'\n",
      "error from callback <function on_close at 0x000001DCF1E07CE0>: on_close() takes 1 positional argument but 3 were given\n"
     ]
    },
    {
     "name": "stdout",
     "output_type": "stream",
     "text": [
      "current row count at 8\n",
      "inserted('2025-05-03 20:01:39 UTC', 'BINANCE:ETHUSDT', 1839.21, 0.0003, '2025-05-03 20:01:40 UTC')\n",
      "current row count at 9\n",
      "inserted('2025-05-03 20:01:39 UTC', 'BINANCE:ETHUSDT', 1839.21, 0.0028, '2025-05-03 20:01:40 UTC')\n",
      "current row count at 10\n",
      "inserted('2025-05-03 20:01:39 UTC', 'BINANCE:ETHUSDT', 1839.21, 0.2596, '2025-05-03 20:01:40 UTC')\n",
      "10 rows reached — closing websocket\n",
      "WebSocket error: on_close() takes 1 positional argument but 3 were given\n"
     ]
    },
    {
     "data": {
      "text/plain": [
       "False"
      ]
     },
     "execution_count": 18,
     "metadata": {},
     "output_type": "execute_result"
    }
   ],
   "source": [
    "API_KEY = 'd0amcgpr01qm3l9meas0d0amcgpr01qm3l9measg'\n",
    "SYMBOL = 'BINANCE:ETHUSDT'\n",
    "\n",
    "#temporary row max logic\n",
    "row_counter = 0\n",
    "MAX_ROWS = 10 #this doesnt seem to be wokring!!\n",
    "\n",
    "#recieves trades from the websocket, reformats, and prints it\n",
    "def on_message(ws, message):\n",
    "    global row_counter\n",
    "    data = json.loads(message) #converts the json string from the websocket into a python object\n",
    "    if data.get('type') == 'trade': #checks to make sure that the data is trades\n",
    "        rows = []\n",
    "        received_at = datetime.now(timezone.utc).strftime(\"%Y-%m-%d %H:%M:%S %Z\")\n",
    "        for t in data['data']: #loops through all trades recieved\n",
    "            if row_counter >= MAX_ROWS:\n",
    "                print(f\"{MAX_ROWS} rows reached — closing websocket\")\n",
    "                ws.close()\n",
    "                return\n",
    "            trade_time = datetime.fromtimestamp(t['t'] / 1000, tz=timezone.utc).strftime(\"%Y-%m-%d %H:%M:%S %Z\")  #reformats date\n",
    "            #append trades to a row and print\n",
    "            row = (trade_time, t['s'], t['p'], t['v'], received_at)\n",
    "            rows.append(row)\n",
    "            row_counter += 1\n",
    "            print(f\"current row count at {row_counter}\")\n",
    "            print(f\"inserted{row}\")\n",
    "\n",
    "        c.executemany(\"INSERT INTO price_ticks (timestamp, symbol, price, volume, recieved_at) VALUES (?,?,?,?,?)\", rows)\n",
    "        conn.commit()\n",
    "\n",
    "#error message\n",
    "def on_error(ws, error):\n",
    "    print(\"WebSocket error:\", error)\n",
    "\n",
    "#closing message\n",
    "def on_close(ws):\n",
    "    print(\"WebSocket closed\")\n",
    "\n",
    "#opening message\n",
    "def on_open(ws):\n",
    "    print(\"WebSocket connection opened\")\n",
    "    ws.send(json.dumps({\n",
    "        \"type\": \"subscribe\",\n",
    "        \"symbol\": SYMBOL\n",
    "    }))\n",
    "\n",
    "#closing DC connection message\n",
    "def close_conn():\n",
    "    print(\"Closing DB connection...\")\n",
    "    conn.close()\n",
    "atexit.register(close_conn)\n",
    "\n",
    "websocket.enableTrace(True) #denoises the data\n",
    "\n",
    "#initializing the websocket\n",
    "ws = websocket.WebSocketApp(f\"wss://ws.finnhub.io?token={API_KEY}\",\n",
    "                            on_message=on_message,\n",
    "                            on_error=on_error,\n",
    "                            on_close=on_close)\n",
    "ws.on_open = on_open #opens the websocket\n",
    "ws.run_forever() #begins running the websocket"
   ]
  },
  {
   "cell_type": "code",
   "execution_count": 19,
   "id": "f33b6054",
   "metadata": {},
   "outputs": [
    {
     "data": {
      "text/html": [
       "<div>\n",
       "<style scoped>\n",
       "    .dataframe tbody tr th:only-of-type {\n",
       "        vertical-align: middle;\n",
       "    }\n",
       "\n",
       "    .dataframe tbody tr th {\n",
       "        vertical-align: top;\n",
       "    }\n",
       "\n",
       "    .dataframe thead th {\n",
       "        text-align: right;\n",
       "    }\n",
       "</style>\n",
       "<table border=\"1\" class=\"dataframe\">\n",
       "  <thead>\n",
       "    <tr style=\"text-align: right;\">\n",
       "      <th></th>\n",
       "      <th>timestamp</th>\n",
       "      <th>symbol</th>\n",
       "      <th>price</th>\n",
       "      <th>volume</th>\n",
       "      <th>recieved_at</th>\n",
       "    </tr>\n",
       "  </thead>\n",
       "  <tbody>\n",
       "    <tr>\n",
       "      <th>0</th>\n",
       "      <td>2025-05-03 20:01:36 UTC</td>\n",
       "      <td>BINANCE:ETHUSDT</td>\n",
       "      <td>1839.20</td>\n",
       "      <td>1.6885</td>\n",
       "      <td>2025-05-03 20:01:38 UTC</td>\n",
       "    </tr>\n",
       "    <tr>\n",
       "      <th>1</th>\n",
       "      <td>2025-05-03 20:01:36 UTC</td>\n",
       "      <td>BINANCE:ETHUSDT</td>\n",
       "      <td>1839.20</td>\n",
       "      <td>0.3115</td>\n",
       "      <td>2025-05-03 20:01:38 UTC</td>\n",
       "    </tr>\n",
       "    <tr>\n",
       "      <th>2</th>\n",
       "      <td>2025-05-03 20:01:37 UTC</td>\n",
       "      <td>BINANCE:ETHUSDT</td>\n",
       "      <td>1839.21</td>\n",
       "      <td>0.0190</td>\n",
       "      <td>2025-05-03 20:01:39 UTC</td>\n",
       "    </tr>\n",
       "    <tr>\n",
       "      <th>3</th>\n",
       "      <td>2025-05-03 20:01:38 UTC</td>\n",
       "      <td>BINANCE:ETHUSDT</td>\n",
       "      <td>1839.21</td>\n",
       "      <td>0.0049</td>\n",
       "      <td>2025-05-03 20:01:39 UTC</td>\n",
       "    </tr>\n",
       "    <tr>\n",
       "      <th>4</th>\n",
       "      <td>2025-05-03 20:01:38 UTC</td>\n",
       "      <td>BINANCE:ETHUSDT</td>\n",
       "      <td>1839.21</td>\n",
       "      <td>0.0029</td>\n",
       "      <td>2025-05-03 20:01:39 UTC</td>\n",
       "    </tr>\n",
       "    <tr>\n",
       "      <th>5</th>\n",
       "      <td>2025-05-03 20:01:38 UTC</td>\n",
       "      <td>BINANCE:ETHUSDT</td>\n",
       "      <td>1839.21</td>\n",
       "      <td>0.0032</td>\n",
       "      <td>2025-05-03 20:01:39 UTC</td>\n",
       "    </tr>\n",
       "    <tr>\n",
       "      <th>6</th>\n",
       "      <td>2025-05-03 20:01:38 UTC</td>\n",
       "      <td>BINANCE:ETHUSDT</td>\n",
       "      <td>1839.21</td>\n",
       "      <td>0.0025</td>\n",
       "      <td>2025-05-03 20:01:39 UTC</td>\n",
       "    </tr>\n",
       "    <tr>\n",
       "      <th>7</th>\n",
       "      <td>2025-05-03 20:01:38 UTC</td>\n",
       "      <td>BINANCE:ETHUSDT</td>\n",
       "      <td>1839.20</td>\n",
       "      <td>0.0054</td>\n",
       "      <td>2025-05-03 20:01:39 UTC</td>\n",
       "    </tr>\n",
       "  </tbody>\n",
       "</table>\n",
       "</div>"
      ],
      "text/plain": [
       "                 timestamp           symbol    price  volume  \\\n",
       "0  2025-05-03 20:01:36 UTC  BINANCE:ETHUSDT  1839.20  1.6885   \n",
       "1  2025-05-03 20:01:36 UTC  BINANCE:ETHUSDT  1839.20  0.3115   \n",
       "2  2025-05-03 20:01:37 UTC  BINANCE:ETHUSDT  1839.21  0.0190   \n",
       "3  2025-05-03 20:01:38 UTC  BINANCE:ETHUSDT  1839.21  0.0049   \n",
       "4  2025-05-03 20:01:38 UTC  BINANCE:ETHUSDT  1839.21  0.0029   \n",
       "5  2025-05-03 20:01:38 UTC  BINANCE:ETHUSDT  1839.21  0.0032   \n",
       "6  2025-05-03 20:01:38 UTC  BINANCE:ETHUSDT  1839.21  0.0025   \n",
       "7  2025-05-03 20:01:38 UTC  BINANCE:ETHUSDT  1839.20  0.0054   \n",
       "\n",
       "               recieved_at  \n",
       "0  2025-05-03 20:01:38 UTC  \n",
       "1  2025-05-03 20:01:38 UTC  \n",
       "2  2025-05-03 20:01:39 UTC  \n",
       "3  2025-05-03 20:01:39 UTC  \n",
       "4  2025-05-03 20:01:39 UTC  \n",
       "5  2025-05-03 20:01:39 UTC  \n",
       "6  2025-05-03 20:01:39 UTC  \n",
       "7  2025-05-03 20:01:39 UTC  "
      ]
     },
     "execution_count": 19,
     "metadata": {},
     "output_type": "execute_result"
    }
   ],
   "source": [
    "pd.read_sql('''\n",
    "SELECT *\n",
    "FROM price_ticks\n",
    "\n",
    "'''\n",
    ", conn)"
   ]
  },
  {
   "cell_type": "code",
   "execution_count": 20,
   "id": "f0b25534",
   "metadata": {},
   "outputs": [],
   "source": [
    "conn.close() #close the connection"
   ]
  }
 ],
 "metadata": {
  "kernelspec": {
   "display_name": "base",
   "language": "python",
   "name": "python3"
  },
  "language_info": {
   "codemirror_mode": {
    "name": "ipython",
    "version": 3
   },
   "file_extension": ".py",
   "mimetype": "text/x-python",
   "name": "python",
   "nbconvert_exporter": "python",
   "pygments_lexer": "ipython3",
   "version": "3.12.4"
  }
 },
 "nbformat": 4,
 "nbformat_minor": 5
}
