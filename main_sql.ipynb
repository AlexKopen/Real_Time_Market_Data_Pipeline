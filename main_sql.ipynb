{
 "cells": [
  {
   "cell_type": "markdown",
   "id": "838e275c",
   "metadata": {},
   "source": [
    "# Real Time Data Stream\n",
    "\n",
    "This project is to start a real time data feed and build infrastructure needed to maintain it.\n",
    "\n",
    "The subject of our data stream will be financial data, specifically for Crypto which has as 24/7 market."
   ]
  },
  {
   "cell_type": "markdown",
   "id": "2a52ffd8",
   "metadata": {},
   "source": [
    "### Outline:\n",
    "1) Database\n",
    "2) API\n",
    "3) Data Storage\n",
    "4) Analysis\n",
    "5) Visualization"
   ]
  },
  {
   "cell_type": "markdown",
   "id": "25d26322",
   "metadata": {},
   "source": [
    "## Initialization"
   ]
  },
  {
   "cell_type": "code",
   "execution_count": 1,
   "id": "6242e9c0",
   "metadata": {},
   "outputs": [],
   "source": [
    "import pandas as pd\n",
    "import numpy as np\n",
    "import sqlite3 #needed for database\n",
    "#datastream imports\n",
    "import websocket\n",
    "import json\n",
    "import threading\n",
    "import time\n",
    "import atexit\n",
    "from datetime import datetime, timezone"
   ]
  },
  {
   "cell_type": "markdown",
   "id": "fc6aaf76",
   "metadata": {},
   "source": [
    "## Database"
   ]
  },
  {
   "cell_type": "markdown",
   "id": "2f500969",
   "metadata": {},
   "source": [
    "SQLite database to store the price data."
   ]
  },
  {
   "cell_type": "code",
   "execution_count": 2,
   "id": "dcf0f5ea",
   "metadata": {},
   "outputs": [],
   "source": [
    "conn = sqlite3.connect('db/pricing_data.db', check_same_thread=False) #establish connection to the database and enable multithreading\n",
    "c = conn.cursor() #create a cursor object\n",
    "\n",
    "#creating the pricing data table with predefined schema\n",
    "c.execute('''\n",
    "    CREATE TABLE IF NOT EXISTS price_ticks(\n",
    "          timestamp TEXT,\n",
    "          timestamp_ms REAL,\n",
    "          symbol TEXT,\n",
    "          price REAL,\n",
    "          volume REAL,\n",
    "          recieved_at TEXT)\n",
    "    ''')\n",
    "c.execute(\"DELETE FROM price_ticks\") # clear the database everytime this runs for now\n",
    "\n",
    "conn.commit() #save the changes"
   ]
  },
  {
   "cell_type": "markdown",
   "id": "80eb19c0",
   "metadata": {},
   "source": [
    "## API\n",
    "\n",
    "Selecting a data provider that provides real time, free to publish data.\n",
    "\n",
    "Of the options, I am deciding on Finnhub. Other contenders were Alpha Vantage."
   ]
  },
  {
   "cell_type": "code",
   "execution_count": 3,
   "id": "9c7ee2a4",
   "metadata": {},
   "outputs": [],
   "source": [
    "API_KEY = 'd0amcgpr01qm3l9meas0d0amcgpr01qm3l9measg'\n",
    "SYMBOL = 'BINANCE:ETHUSDT'\n",
    "\n",
    "#temporary row max logic\n",
    "MAX_ROWS = 200"
   ]
  },
  {
   "cell_type": "code",
   "execution_count": 4,
   "id": "63420547",
   "metadata": {},
   "outputs": [
    {
     "data": {
      "text/plain": [
       "<function __main__.close_conn()>"
      ]
     },
     "execution_count": 4,
     "metadata": {},
     "output_type": "execute_result"
    }
   ],
   "source": [
    "#recieves trades from the websocket, reformats, and prints it\n",
    "def create_on_message(rows):\n",
    "    def on_message(ws, message):\n",
    "        if len(rows) >= MAX_ROWS:    \n",
    "            print(f\"{MAX_ROWS} rows reached — closing websocket\")\n",
    "            c.executemany(\"INSERT INTO price_ticks (timestamp, timestamp_ms, symbol, price, volume, recieved_at) VALUES (?,?,?,?,?,?)\", rows)\n",
    "            conn.commit()\n",
    "            ws.close()\n",
    "            return\n",
    "        \n",
    "        data = json.loads(message) #converts the json string from the websocket into a python object\n",
    "        if data.get('type') == 'trade': #checks to make sure that the data is trades\n",
    "            received_at = datetime.now(timezone.utc).strftime(\"%Y-%m-%d %H:%M:%S %Z\")\n",
    "            for t in data['data']: #loops through all trades recieved\n",
    "                trade_time = datetime.fromtimestamp(t['t'] / 1000, tz=timezone.utc).strftime(\"%Y-%m-%d %H:%M:%S %Z\")  #reformats date\n",
    "                rows.append((trade_time, t['t'], t['s'], t['p'], t['v'], received_at))\n",
    "    return on_message\n",
    "\n",
    "#error message\n",
    "def on_error(ws, error):\n",
    "    print(\"WebSocket error:\", error)\n",
    "\n",
    "#closing message\n",
    "def on_close(ws):\n",
    "    print(\"WebSocket closed\")\n",
    "\n",
    "#opening message\n",
    "def on_open(ws):\n",
    "    print(\"WebSocket connection opened\")\n",
    "    ws.send(json.dumps({\n",
    "        \"type\": \"subscribe\",\n",
    "        \"symbol\": SYMBOL\n",
    "    }))\n",
    "\n",
    "#closing DC connection message\n",
    "def close_conn():\n",
    "    print(\"Closing DB connection...\")\n",
    "    conn.close()\n",
    "atexit.register(close_conn)"
   ]
  },
  {
   "cell_type": "code",
   "execution_count": 5,
   "id": "f6d94e18",
   "metadata": {},
   "outputs": [
    {
     "name": "stderr",
     "output_type": "stream",
     "text": [
      "--- request header ---\n",
      "GET /?token=d0amcgpr01qm3l9meas0d0amcgpr01qm3l9measg HTTP/1.1\n",
      "Upgrade: websocket\n",
      "Host: ws.finnhub.io\n",
      "Origin: https://ws.finnhub.io\n",
      "Sec-WebSocket-Key: 6CMrcF7EFi9m+smRRxnXWQ==\n",
      "Sec-WebSocket-Version: 13\n",
      "Connection: Upgrade\n",
      "\n",
      "\n",
      "-----------------------\n",
      "--- response header ---\n",
      "HTTP/1.1 101 Switching Protocols\n",
      "Server: nginx/1.18.0\n",
      "Date: Mon, 05 May 2025 01:58:02 GMT\n",
      "Connection: upgrade\n",
      "Upgrade: websocket\n",
      "Sec-WebSocket-Accept: EUmJc4i4o+jXS2HEnxpioEvh26U=\n",
      "-----------------------\n",
      "Websocket connected\n",
      "++Sent raw: b'\\x81\\xb2s.\\x12B\\x08\\x0cf;\\x03K0xS\\x0ca7\\x11]q0\\x1aLw`_\\x0e01\\nCp-\\x1f\\x0c(bQl[\\x0c2`Q\\x07IkF\\n&}V\\x16QS'\n",
      "++Sent decoded: fin=1 opcode=1 data=b'{\"type\": \"subscribe\", \"symbol\": \"BINANCE:ETHUSDT\"}'\n"
     ]
    },
    {
     "name": "stdout",
     "output_type": "stream",
     "text": [
      "WebSocket connection opened\n"
     ]
    },
    {
     "name": "stderr",
     "output_type": "stream",
     "text": [
      "++Rcv raw: b'\\x81~\\x00\\xf4{\"data\":[{\"c\":null,\"p\":1791,\"s\":\"BINANCE:ETHUSDT\",\"t\":1746410281127,\"v\":0.0625},{\"c\":null,\"p\":1791.01,\"s\":\"BINANCE:ETHUSDT\",\"t\":1746410281963,\"v\":0.0028},{\"c\":null,\"p\":1791.01,\"s\":\"BINANCE:ETHUSDT\",\"t\":1746410281963,\"v\":0.0007}],\"type\":\"trade\"}'\n",
      "++Rcv decoded: fin=1 opcode=1 data=b'{\"data\":[{\"c\":null,\"p\":1791,\"s\":\"BINANCE:ETHUSDT\",\"t\":1746410281127,\"v\":0.0625},{\"c\":null,\"p\":1791.01,\"s\":\"BINANCE:ETHUSDT\",\"t\":1746410281963,\"v\":0.0028},{\"c\":null,\"p\":1791.01,\"s\":\"BINANCE:ETHUSDT\",\"t\":1746410281963,\"v\":0.0007}],\"type\":\"trade\"}'\n",
      "++Rcv raw: b'\\x81~\\x00\\xef{\"data\":[{\"c\":null,\"p\":1791.01,\"s\":\"BINANCE:ETHUSDT\",\"t\":1746410282351,\"v\":0.0748},{\"c\":null,\"p\":1791.01,\"s\":\"BINANCE:ETHUSDT\",\"t\":1746410282351,\"v\":0.9252},{\"c\":null,\"p\":1791,\"s\":\"BINANCE:ETHUSDT\",\"t\":1746410282447,\"v\":1}],\"type\":\"trade\"}'\n",
      "++Rcv decoded: fin=1 opcode=1 data=b'{\"data\":[{\"c\":null,\"p\":1791.01,\"s\":\"BINANCE:ETHUSDT\",\"t\":1746410282351,\"v\":0.0748},{\"c\":null,\"p\":1791.01,\"s\":\"BINANCE:ETHUSDT\",\"t\":1746410282351,\"v\":0.9252},{\"c\":null,\"p\":1791,\"s\":\"BINANCE:ETHUSDT\",\"t\":1746410282447,\"v\":1}],\"type\":\"trade\"}'\n",
      "++Rcv raw: b'\\x81`{\"data\":[{\"c\":null,\"p\":1791,\"s\":\"BINANCE:ETHUSDT\",\"t\":1746410284323,\"v\":0.0075}],\"type\":\"trade\"}'\n",
      "++Rcv decoded: fin=1 opcode=1 data=b'{\"data\":[{\"c\":null,\"p\":1791,\"s\":\"BINANCE:ETHUSDT\",\"t\":1746410284323,\"v\":0.0075}],\"type\":\"trade\"}'\n",
      "++Rcv raw: b'\\x81c{\"data\":[{\"c\":null,\"p\":1791.01,\"s\":\"BINANCE:ETHUSDT\",\"t\":1746410285829,\"v\":0.0806}],\"type\":\"trade\"}'\n",
      "++Rcv decoded: fin=1 opcode=1 data=b'{\"data\":[{\"c\":null,\"p\":1791.01,\"s\":\"BINANCE:ETHUSDT\",\"t\":1746410285829,\"v\":0.0806}],\"type\":\"trade\"}'\n",
      "++Rcv raw: b'\\x81`{\"data\":[{\"c\":null,\"p\":1791,\"s\":\"BINANCE:ETHUSDT\",\"t\":1746410287172,\"v\":0.1117}],\"type\":\"trade\"}'\n",
      "++Rcv decoded: fin=1 opcode=1 data=b'{\"data\":[{\"c\":null,\"p\":1791,\"s\":\"BINANCE:ETHUSDT\",\"t\":1746410287172,\"v\":0.1117}],\"type\":\"trade\"}'\n",
      "++Rcv raw: b'\\x81~\\x00\\xad{\"data\":[{\"c\":null,\"p\":1791.01,\"s\":\"BINANCE:ETHUSDT\",\"t\":1746410289241,\"v\":0.0055},{\"c\":null,\"p\":1791.01,\"s\":\"BINANCE:ETHUSDT\",\"t\":1746410289614,\"v\":0.0198}],\"type\":\"trade\"}'\n",
      "++Rcv decoded: fin=1 opcode=1 data=b'{\"data\":[{\"c\":null,\"p\":1791.01,\"s\":\"BINANCE:ETHUSDT\",\"t\":1746410289241,\"v\":0.0055},{\"c\":null,\"p\":1791.01,\"s\":\"BINANCE:ETHUSDT\",\"t\":1746410289614,\"v\":0.0198}],\"type\":\"trade\"}'\n",
      "++Rcv raw: b'\\x81~\\x0e\\x85{\"data\":[{\"c\":null,\"p\":1791.01,\"s\":\"BINANCE:ETHUSDT\",\"t\":1746410290625,\"v\":2.2991},{\"c\":null,\"p\":1791.01,\"s\":\"BINANCE:ETHUSDT\",\"t\":1746410290625,\"v\":0.0111},{\"c\":null,\"p\":1791.01,\"s\":\"BINANCE:ETHUSDT\",\"t\":1746410290625,\"v\":0.4815},{\"c\":null,\"p\":1791.01,\"s\":\"BINANCE:ETHUSDT\",\"t\":1746410290744,\"v\":1.2293},{\"c\":null,\"p\":1791.01,\"s\":\"BINANCE:ETHUSDT\",\"t\":1746410290744,\"v\":0.0504},{\"c\":null,\"p\":1791.01,\"s\":\"BINANCE:ETHUSDT\",\"t\":1746410290744,\"v\":0.2296},{\"c\":null,\"p\":1791.01,\"s\":\"BINANCE:ETHUSDT\",\"t\":1746410290744,\"v\":0.0547},{\"c\":null,\"p\":1791.01,\"s\":\"BINANCE:ETHUSDT\",\"t\":1746410290744,\"v\":0.005},{\"c\":null,\"p\":1791.01,\"s\":\"BINANCE:ETHUSDT\",\"t\":1746410290744,\"v\":0.0029},{\"c\":null,\"p\":1791.01,\"s\":\"BINANCE:ETHUSDT\",\"t\":1746410290744,\"v\":0.1513},{\"c\":null,\"p\":1791.01,\"s\":\"BINANCE:ETHUSDT\",\"t\":1746410290744,\"v\":0.0858},{\"c\":null,\"p\":1791.01,\"s\":\"BINANCE:ETHUSDT\",\"t\":1746410290744,\"v\":0.006},{\"c\":null,\"p\":1791.01,\"s\":\"BINANCE:ETHUSDT\",\"t\":1746410290744,\"v\":0.006},{\"c\":null,\"p\":1791.01,\"s\":\"BINANCE:ETHUSDT\",\"t\":1746410290744,\"v\":0.0028},{\"c\":null,\"p\":1791.01,\"s\":\"BINANCE:ETHUSDT\",\"t\":1746410290744,\"v\":0.0068},{\"c\":null,\"p\":1791.01,\"s\":\"BINANCE:ETHUSDT\",\"t\":1746410290744,\"v\":0.0028},{\"c\":null,\"p\":1791.01,\"s\":\"BINANCE:ETHUSDT\",\"t\":1746410290744,\"v\":0.0387},{\"c\":null,\"p\":1791.01,\"s\":\"BINANCE:ETHUSDT\",\"t\":1746410290744,\"v\":0.262},{\"c\":null,\"p\":1791.01,\"s\":\"BINANCE:ETHUSDT\",\"t\":1746410290744,\"v\":0.0421},{\"c\":null,\"p\":1791.01,\"s\":\"BINANCE:ETHUSDT\",\"t\":1746410290744,\"v\":0.1906},{\"c\":null,\"p\":1791.01,\"s\":\"BINANCE:ETHUSDT\",\"t\":1746410290744,\"v\":0.0558},{\"c\":null,\"p\":1791.01,\"s\":\"BINANCE:ETHUSDT\",\"t\":1746410290744,\"v\":0.122},{\"c\":null,\"p\":1791.01,\"s\":\"BINANCE:ETHUSDT\",\"t\":1746410290744,\"v\":0.0117},{\"c\":null,\"p\":1791.01,\"s\":\"BINANCE:ETHUSDT\",\"t\":1746410290744,\"v\":0.0029},{\"c\":null,\"p\":1791.01,\"s\":\"BINANCE:ETHUSDT\",\"t\":1746410290744,\"v\":0.0029},{\"c\":null,\"p\":1791.01,\"s\":\"BINANCE:ETHUSDT\",\"t\":1746410290744,\"v\":0.0029},{\"c\":null,\"p\":1791.01,\"s\":\"BINANCE:ETHUSDT\",\"t\":1746410290744,\"v\":0.0029},{\"c\":null,\"p\":1791.01,\"s\":\"BINANCE:ETHUSDT\",\"t\":1746410290744,\"v\":0.0195},{\"c\":null,\"p\":1791.01,\"s\":\"BINANCE:ETHUSDT\",\"t\":1746410290744,\"v\":0.0028},{\"c\":null,\"p\":1791.02,\"s\":\"BINANCE:ETHUSDT\",\"t\":1746410290917,\"v\":0.0029},{\"c\":null,\"p\":1791.02,\"s\":\"BINANCE:ETHUSDT\",\"t\":1746410290917,\"v\":0.0029},{\"c\":null,\"p\":1791.02,\"s\":\"BINANCE:ETHUSDT\",\"t\":1746410290917,\"v\":0.5623},{\"c\":null,\"p\":1791.02,\"s\":\"BINANCE:ETHUSDT\",\"t\":1746410290917,\"v\":0.0418},{\"c\":null,\"p\":1791.02,\"s\":\"BINANCE:ETHUSDT\",\"t\":1746410290917,\"v\":0.0029},{\"c\":null,\"p\":1791.02,\"s\":\"BINANCE:ETHUSDT\",\"t\":1746410290917,\"v\":0.0029},{\"c\":null,\"p\":1791.02,\"s\":\"BINANCE:ETHUSDT\",\"t\":1746410290917,\"v\":0.0029},{\"c\":null,\"p\":1791.02,\"s\":\"BINANCE:ETHUSDT\",\"t\":1746410290917,\"v\":0.0029},{\"c\":null,\"p\":1791.02,\"s\":\"BINANCE:ETHUSDT\",\"t\":1746410290917,\"v\":0.0587},{\"c\":null,\"p\":1791.02,\"s\":\"BINANCE:ETHUSDT\",\"t\":1746410290917,\"v\":0.0029},{\"c\":null,\"p\":1791.02,\"s\":\"BINANCE:ETHUSDT\",\"t\":1746410290917,\"v\":0.0028},{\"c\":null,\"p\":1791.02,\"s\":\"BINANCE:ETHUSDT\",\"t\":1746410290917,\"v\":0.0029},{\"c\":null,\"p\":1791.02,\"s\":\"BINANCE:ETHUSDT\",\"t\":1746410290917,\"v\":0.0029},{\"c\":null,\"p\":1791.02,\"s\":\"BINANCE:ETHUSDT\",\"t\":1746410290917,\"v\":0.005},{\"c\":null,\"p\":1791.02,\"s\":\"BINANCE:ETHUSDT\",\"t\":1746410290917,\"v\":0.006},{\"c\":null,\"p\":1791.02,\"s\":\"BINANCE:ETHUSDT\",\"t\":1746410290917,\"v\":0.006},{\"c\":null,\"p\":1791.02,\"s\":\"BINANCE:ETHUSDT\",\"t\":1746410290917,\"v\":0.5623},{\"c\":null,\"p\":1791.02,\"s\":\"BINANCE:ETHUSDT\",\"t\":1746410290917,\"v\":0.0028},{\"c\":null,\"p\":1791.02,\"s\":\"BINANCE:ETHUSDT\",\"t\":1746410290917,\"v\":0.5623},{\"c\":null,\"p\":1791.02,\"s\":\"BINANCE:ETHUSDT\",\"t\":1746410290917,\"v\":0.5623},{\"c\":null,\"p\":1791.02,\"s\":\"BINANCE:ETHUSDT\",\"t\":1746410290917,\"v\":0.5623}],\"type\":\"trade\"}'\n",
      "++Rcv decoded: fin=1 opcode=1 data=b'{\"data\":[{\"c\":null,\"p\":1791.01,\"s\":\"BINANCE:ETHUSDT\",\"t\":1746410290625,\"v\":2.2991},{\"c\":null,\"p\":1791.01,\"s\":\"BINANCE:ETHUSDT\",\"t\":1746410290625,\"v\":0.0111},{\"c\":null,\"p\":1791.01,\"s\":\"BINANCE:ETHUSDT\",\"t\":1746410290625,\"v\":0.4815},{\"c\":null,\"p\":1791.01,\"s\":\"BINANCE:ETHUSDT\",\"t\":1746410290744,\"v\":1.2293},{\"c\":null,\"p\":1791.01,\"s\":\"BINANCE:ETHUSDT\",\"t\":1746410290744,\"v\":0.0504},{\"c\":null,\"p\":1791.01,\"s\":\"BINANCE:ETHUSDT\",\"t\":1746410290744,\"v\":0.2296},{\"c\":null,\"p\":1791.01,\"s\":\"BINANCE:ETHUSDT\",\"t\":1746410290744,\"v\":0.0547},{\"c\":null,\"p\":1791.01,\"s\":\"BINANCE:ETHUSDT\",\"t\":1746410290744,\"v\":0.005},{\"c\":null,\"p\":1791.01,\"s\":\"BINANCE:ETHUSDT\",\"t\":1746410290744,\"v\":0.0029},{\"c\":null,\"p\":1791.01,\"s\":\"BINANCE:ETHUSDT\",\"t\":1746410290744,\"v\":0.1513},{\"c\":null,\"p\":1791.01,\"s\":\"BINANCE:ETHUSDT\",\"t\":1746410290744,\"v\":0.0858},{\"c\":null,\"p\":1791.01,\"s\":\"BINANCE:ETHUSDT\",\"t\":1746410290744,\"v\":0.006},{\"c\":null,\"p\":1791.01,\"s\":\"BINANCE:ETHUSDT\",\"t\":1746410290744,\"v\":0.006},{\"c\":null,\"p\":1791.01,\"s\":\"BINANCE:ETHUSDT\",\"t\":1746410290744,\"v\":0.0028},{\"c\":null,\"p\":1791.01,\"s\":\"BINANCE:ETHUSDT\",\"t\":1746410290744,\"v\":0.0068},{\"c\":null,\"p\":1791.01,\"s\":\"BINANCE:ETHUSDT\",\"t\":1746410290744,\"v\":0.0028},{\"c\":null,\"p\":1791.01,\"s\":\"BINANCE:ETHUSDT\",\"t\":1746410290744,\"v\":0.0387},{\"c\":null,\"p\":1791.01,\"s\":\"BINANCE:ETHUSDT\",\"t\":1746410290744,\"v\":0.262},{\"c\":null,\"p\":1791.01,\"s\":\"BINANCE:ETHUSDT\",\"t\":1746410290744,\"v\":0.0421},{\"c\":null,\"p\":1791.01,\"s\":\"BINANCE:ETHUSDT\",\"t\":1746410290744,\"v\":0.1906},{\"c\":null,\"p\":1791.01,\"s\":\"BINANCE:ETHUSDT\",\"t\":1746410290744,\"v\":0.0558},{\"c\":null,\"p\":1791.01,\"s\":\"BINANCE:ETHUSDT\",\"t\":1746410290744,\"v\":0.122},{\"c\":null,\"p\":1791.01,\"s\":\"BINANCE:ETHUSDT\",\"t\":1746410290744,\"v\":0.0117},{\"c\":null,\"p\":1791.01,\"s\":\"BINANCE:ETHUSDT\",\"t\":1746410290744,\"v\":0.0029},{\"c\":null,\"p\":1791.01,\"s\":\"BINANCE:ETHUSDT\",\"t\":1746410290744,\"v\":0.0029},{\"c\":null,\"p\":1791.01,\"s\":\"BINANCE:ETHUSDT\",\"t\":1746410290744,\"v\":0.0029},{\"c\":null,\"p\":1791.01,\"s\":\"BINANCE:ETHUSDT\",\"t\":1746410290744,\"v\":0.0029},{\"c\":null,\"p\":1791.01,\"s\":\"BINANCE:ETHUSDT\",\"t\":1746410290744,\"v\":0.0195},{\"c\":null,\"p\":1791.01,\"s\":\"BINANCE:ETHUSDT\",\"t\":1746410290744,\"v\":0.0028},{\"c\":null,\"p\":1791.02,\"s\":\"BINANCE:ETHUSDT\",\"t\":1746410290917,\"v\":0.0029},{\"c\":null,\"p\":1791.02,\"s\":\"BINANCE:ETHUSDT\",\"t\":1746410290917,\"v\":0.0029},{\"c\":null,\"p\":1791.02,\"s\":\"BINANCE:ETHUSDT\",\"t\":1746410290917,\"v\":0.5623},{\"c\":null,\"p\":1791.02,\"s\":\"BINANCE:ETHUSDT\",\"t\":1746410290917,\"v\":0.0418},{\"c\":null,\"p\":1791.02,\"s\":\"BINANCE:ETHUSDT\",\"t\":1746410290917,\"v\":0.0029},{\"c\":null,\"p\":1791.02,\"s\":\"BINANCE:ETHUSDT\",\"t\":1746410290917,\"v\":0.0029},{\"c\":null,\"p\":1791.02,\"s\":\"BINANCE:ETHUSDT\",\"t\":1746410290917,\"v\":0.0029},{\"c\":null,\"p\":1791.02,\"s\":\"BINANCE:ETHUSDT\",\"t\":1746410290917,\"v\":0.0029},{\"c\":null,\"p\":1791.02,\"s\":\"BINANCE:ETHUSDT\",\"t\":1746410290917,\"v\":0.0587},{\"c\":null,\"p\":1791.02,\"s\":\"BINANCE:ETHUSDT\",\"t\":1746410290917,\"v\":0.0029},{\"c\":null,\"p\":1791.02,\"s\":\"BINANCE:ETHUSDT\",\"t\":1746410290917,\"v\":0.0028},{\"c\":null,\"p\":1791.02,\"s\":\"BINANCE:ETHUSDT\",\"t\":1746410290917,\"v\":0.0029},{\"c\":null,\"p\":1791.02,\"s\":\"BINANCE:ETHUSDT\",\"t\":1746410290917,\"v\":0.0029},{\"c\":null,\"p\":1791.02,\"s\":\"BINANCE:ETHUSDT\",\"t\":1746410290917,\"v\":0.005},{\"c\":null,\"p\":1791.02,\"s\":\"BINANCE:ETHUSDT\",\"t\":1746410290917,\"v\":0.006},{\"c\":null,\"p\":1791.02,\"s\":\"BINANCE:ETHUSDT\",\"t\":1746410290917,\"v\":0.006},{\"c\":null,\"p\":1791.02,\"s\":\"BINANCE:ETHUSDT\",\"t\":1746410290917,\"v\":0.5623},{\"c\":null,\"p\":1791.02,\"s\":\"BINANCE:ETHUSDT\",\"t\":1746410290917,\"v\":0.0028},{\"c\":null,\"p\":1791.02,\"s\":\"BINANCE:ETHUSDT\",\"t\":1746410290917,\"v\":0.5623},{\"c\":null,\"p\":1791.02,\"s\":\"BINANCE:ETHUSDT\",\"t\":1746410290917,\"v\":0.5623},{\"c\":null,\"p\":1791.02,\"s\":\"BINANCE:ETHUSDT\",\"t\":1746410290917,\"v\":0.5623}],\"type\":\"trade\"}'\n",
      "++Rcv raw: b'\\x81~\\x0b\\x07{\"data\":[{\"c\":null,\"p\":1791.02,\"s\":\"BINANCE:ETHUSDT\",\"t\":1746410290917,\"v\":0.5623},{\"c\":null,\"p\":1791.02,\"s\":\"BINANCE:ETHUSDT\",\"t\":1746410290917,\"v\":0.5623},{\"c\":null,\"p\":1791.02,\"s\":\"BINANCE:ETHUSDT\",\"t\":1746410290917,\"v\":0.5623},{\"c\":null,\"p\":1791.02,\"s\":\"BINANCE:ETHUSDT\",\"t\":1746410290917,\"v\":0.5623},{\"c\":null,\"p\":1791.02,\"s\":\"BINANCE:ETHUSDT\",\"t\":1746410290917,\"v\":0.0622},{\"c\":null,\"p\":1791.02,\"s\":\"BINANCE:ETHUSDT\",\"t\":1746410290917,\"v\":0.02},{\"c\":null,\"p\":1791.02,\"s\":\"BINANCE:ETHUSDT\",\"t\":1746410291018,\"v\":0.4797},{\"c\":null,\"p\":1791.02,\"s\":\"BINANCE:ETHUSDT\",\"t\":1746410291018,\"v\":0.0029},{\"c\":null,\"p\":1791.02,\"s\":\"BINANCE:ETHUSDT\",\"t\":1746410291018,\"v\":0.006},{\"c\":null,\"p\":1791.02,\"s\":\"BINANCE:ETHUSDT\",\"t\":1746410291018,\"v\":0.006},{\"c\":null,\"p\":1791.02,\"s\":\"BINANCE:ETHUSDT\",\"t\":1746410291018,\"v\":0.0029},{\"c\":null,\"p\":1791.02,\"s\":\"BINANCE:ETHUSDT\",\"t\":1746410291018,\"v\":0.006},{\"c\":null,\"p\":1791.02,\"s\":\"BINANCE:ETHUSDT\",\"t\":1746410291018,\"v\":0.006},{\"c\":null,\"p\":1791.02,\"s\":\"BINANCE:ETHUSDT\",\"t\":1746410291018,\"v\":0.0568},{\"c\":null,\"p\":1791.02,\"s\":\"BINANCE:ETHUSDT\",\"t\":1746410291018,\"v\":0.0547},{\"c\":null,\"p\":1791.02,\"s\":\"BINANCE:ETHUSDT\",\"t\":1746410291018,\"v\":0.006},{\"c\":null,\"p\":1791.02,\"s\":\"BINANCE:ETHUSDT\",\"t\":1746410291018,\"v\":0.006},{\"c\":null,\"p\":1791.02,\"s\":\"BINANCE:ETHUSDT\",\"t\":1746410291018,\"v\":0.006},{\"c\":null,\"p\":1791.02,\"s\":\"BINANCE:ETHUSDT\",\"t\":1746410291018,\"v\":0.006},{\"c\":null,\"p\":1791.02,\"s\":\"BINANCE:ETHUSDT\",\"t\":1746410291018,\"v\":0.0029},{\"c\":null,\"p\":1791.03,\"s\":\"BINANCE:ETHUSDT\",\"t\":1746410291018,\"v\":0.0029},{\"c\":null,\"p\":1791.03,\"s\":\"BINANCE:ETHUSDT\",\"t\":1746410291018,\"v\":0.0506},{\"c\":null,\"p\":1791.03,\"s\":\"BINANCE:ETHUSDT\",\"t\":1746410291018,\"v\":0.0503},{\"c\":null,\"p\":1791.03,\"s\":\"BINANCE:ETHUSDT\",\"t\":1746410291018,\"v\":0.0029},{\"c\":null,\"p\":1791.03,\"s\":\"BINANCE:ETHUSDT\",\"t\":1746410291018,\"v\":0.0028},{\"c\":null,\"p\":1791.03,\"s\":\"BINANCE:ETHUSDT\",\"t\":1746410291018,\"v\":0.0029},{\"c\":null,\"p\":1791.03,\"s\":\"BINANCE:ETHUSDT\",\"t\":1746410291018,\"v\":0.0028},{\"c\":null,\"p\":1791.04,\"s\":\"BINANCE:ETHUSDT\",\"t\":1746410291018,\"v\":0.0029},{\"c\":null,\"p\":1791.05,\"s\":\"BINANCE:ETHUSDT\",\"t\":1746410291018,\"v\":0.0029},{\"c\":null,\"p\":1791.06,\"s\":\"BINANCE:ETHUSDT\",\"t\":1746410291018,\"v\":0.0029},{\"c\":null,\"p\":1791.06,\"s\":\"BINANCE:ETHUSDT\",\"t\":1746410291018,\"v\":0.0158},{\"c\":null,\"p\":1791.07,\"s\":\"BINANCE:ETHUSDT\",\"t\":1746410291018,\"v\":0.0029},{\"c\":null,\"p\":1791.07,\"s\":\"BINANCE:ETHUSDT\",\"t\":1746410291018,\"v\":0.004},{\"c\":null,\"p\":1791.07,\"s\":\"BINANCE:ETHUSDT\",\"t\":1746410291018,\"v\":0.0029},{\"c\":null,\"p\":1791.08,\"s\":\"BINANCE:ETHUSDT\",\"t\":1746410291018,\"v\":0.0029},{\"c\":null,\"p\":1791.08,\"s\":\"BINANCE:ETHUSDT\",\"t\":1746410291018,\"v\":0.0033},{\"c\":null,\"p\":1791.09,\"s\":\"BINANCE:ETHUSDT\",\"t\":1746410291018,\"v\":0.0029},{\"c\":null,\"p\":1791.09,\"s\":\"BINANCE:ETHUSDT\",\"t\":1746410291018,\"v\":0.3}],\"type\":\"trade\"}'\n",
      "++Rcv decoded: fin=1 opcode=1 data=b'{\"data\":[{\"c\":null,\"p\":1791.02,\"s\":\"BINANCE:ETHUSDT\",\"t\":1746410290917,\"v\":0.5623},{\"c\":null,\"p\":1791.02,\"s\":\"BINANCE:ETHUSDT\",\"t\":1746410290917,\"v\":0.5623},{\"c\":null,\"p\":1791.02,\"s\":\"BINANCE:ETHUSDT\",\"t\":1746410290917,\"v\":0.5623},{\"c\":null,\"p\":1791.02,\"s\":\"BINANCE:ETHUSDT\",\"t\":1746410290917,\"v\":0.5623},{\"c\":null,\"p\":1791.02,\"s\":\"BINANCE:ETHUSDT\",\"t\":1746410290917,\"v\":0.0622},{\"c\":null,\"p\":1791.02,\"s\":\"BINANCE:ETHUSDT\",\"t\":1746410290917,\"v\":0.02},{\"c\":null,\"p\":1791.02,\"s\":\"BINANCE:ETHUSDT\",\"t\":1746410291018,\"v\":0.4797},{\"c\":null,\"p\":1791.02,\"s\":\"BINANCE:ETHUSDT\",\"t\":1746410291018,\"v\":0.0029},{\"c\":null,\"p\":1791.02,\"s\":\"BINANCE:ETHUSDT\",\"t\":1746410291018,\"v\":0.006},{\"c\":null,\"p\":1791.02,\"s\":\"BINANCE:ETHUSDT\",\"t\":1746410291018,\"v\":0.006},{\"c\":null,\"p\":1791.02,\"s\":\"BINANCE:ETHUSDT\",\"t\":1746410291018,\"v\":0.0029},{\"c\":null,\"p\":1791.02,\"s\":\"BINANCE:ETHUSDT\",\"t\":1746410291018,\"v\":0.006},{\"c\":null,\"p\":1791.02,\"s\":\"BINANCE:ETHUSDT\",\"t\":1746410291018,\"v\":0.006},{\"c\":null,\"p\":1791.02,\"s\":\"BINANCE:ETHUSDT\",\"t\":1746410291018,\"v\":0.0568},{\"c\":null,\"p\":1791.02,\"s\":\"BINANCE:ETHUSDT\",\"t\":1746410291018,\"v\":0.0547},{\"c\":null,\"p\":1791.02,\"s\":\"BINANCE:ETHUSDT\",\"t\":1746410291018,\"v\":0.006},{\"c\":null,\"p\":1791.02,\"s\":\"BINANCE:ETHUSDT\",\"t\":1746410291018,\"v\":0.006},{\"c\":null,\"p\":1791.02,\"s\":\"BINANCE:ETHUSDT\",\"t\":1746410291018,\"v\":0.006},{\"c\":null,\"p\":1791.02,\"s\":\"BINANCE:ETHUSDT\",\"t\":1746410291018,\"v\":0.006},{\"c\":null,\"p\":1791.02,\"s\":\"BINANCE:ETHUSDT\",\"t\":1746410291018,\"v\":0.0029},{\"c\":null,\"p\":1791.03,\"s\":\"BINANCE:ETHUSDT\",\"t\":1746410291018,\"v\":0.0029},{\"c\":null,\"p\":1791.03,\"s\":\"BINANCE:ETHUSDT\",\"t\":1746410291018,\"v\":0.0506},{\"c\":null,\"p\":1791.03,\"s\":\"BINANCE:ETHUSDT\",\"t\":1746410291018,\"v\":0.0503},{\"c\":null,\"p\":1791.03,\"s\":\"BINANCE:ETHUSDT\",\"t\":1746410291018,\"v\":0.0029},{\"c\":null,\"p\":1791.03,\"s\":\"BINANCE:ETHUSDT\",\"t\":1746410291018,\"v\":0.0028},{\"c\":null,\"p\":1791.03,\"s\":\"BINANCE:ETHUSDT\",\"t\":1746410291018,\"v\":0.0029},{\"c\":null,\"p\":1791.03,\"s\":\"BINANCE:ETHUSDT\",\"t\":1746410291018,\"v\":0.0028},{\"c\":null,\"p\":1791.04,\"s\":\"BINANCE:ETHUSDT\",\"t\":1746410291018,\"v\":0.0029},{\"c\":null,\"p\":1791.05,\"s\":\"BINANCE:ETHUSDT\",\"t\":1746410291018,\"v\":0.0029},{\"c\":null,\"p\":1791.06,\"s\":\"BINANCE:ETHUSDT\",\"t\":1746410291018,\"v\":0.0029},{\"c\":null,\"p\":1791.06,\"s\":\"BINANCE:ETHUSDT\",\"t\":1746410291018,\"v\":0.0158},{\"c\":null,\"p\":1791.07,\"s\":\"BINANCE:ETHUSDT\",\"t\":1746410291018,\"v\":0.0029},{\"c\":null,\"p\":1791.07,\"s\":\"BINANCE:ETHUSDT\",\"t\":1746410291018,\"v\":0.004},{\"c\":null,\"p\":1791.07,\"s\":\"BINANCE:ETHUSDT\",\"t\":1746410291018,\"v\":0.0029},{\"c\":null,\"p\":1791.08,\"s\":\"BINANCE:ETHUSDT\",\"t\":1746410291018,\"v\":0.0029},{\"c\":null,\"p\":1791.08,\"s\":\"BINANCE:ETHUSDT\",\"t\":1746410291018,\"v\":0.0033},{\"c\":null,\"p\":1791.09,\"s\":\"BINANCE:ETHUSDT\",\"t\":1746410291018,\"v\":0.0029},{\"c\":null,\"p\":1791.09,\"s\":\"BINANCE:ETHUSDT\",\"t\":1746410291018,\"v\":0.3}],\"type\":\"trade\"}'\n",
      "++Rcv raw: b'\\x81~\\x00\\xab{\"data\":[{\"c\":null,\"p\":1791.1,\"s\":\"BINANCE:ETHUSDT\",\"t\":1746410291810,\"v\":0.0029},{\"c\":null,\"p\":1791.1,\"s\":\"BINANCE:ETHUSDT\",\"t\":1746410291810,\"v\":0.0026}],\"type\":\"trade\"}'\n",
      "++Rcv decoded: fin=1 opcode=1 data=b'{\"data\":[{\"c\":null,\"p\":1791.1,\"s\":\"BINANCE:ETHUSDT\",\"t\":1746410291810,\"v\":0.0029},{\"c\":null,\"p\":1791.1,\"s\":\"BINANCE:ETHUSDT\",\"t\":1746410291810,\"v\":0.0026}],\"type\":\"trade\"}'\n",
      "++Rcv raw: b'\\x81~\\x0eI{\"data\":[{\"c\":null,\"p\":1791.1,\"s\":\"BINANCE:ETHUSDT\",\"t\":1746410292307,\"v\":0.0002},{\"c\":null,\"p\":1791.1,\"s\":\"BINANCE:ETHUSDT\",\"t\":1746410292307,\"v\":0.0028},{\"c\":null,\"p\":1791.1,\"s\":\"BINANCE:ETHUSDT\",\"t\":1746410292307,\"v\":0.0029},{\"c\":null,\"p\":1791.1,\"s\":\"BINANCE:ETHUSDT\",\"t\":1746410292307,\"v\":0.0066},{\"c\":null,\"p\":1791.1,\"s\":\"BINANCE:ETHUSDT\",\"t\":1746410292307,\"v\":0.0028},{\"c\":null,\"p\":1791.1,\"s\":\"BINANCE:ETHUSDT\",\"t\":1746410292307,\"v\":1.427},{\"c\":null,\"p\":1791.1,\"s\":\"BINANCE:ETHUSDT\",\"t\":1746410292307,\"v\":0.055},{\"c\":null,\"p\":1791.1,\"s\":\"BINANCE:ETHUSDT\",\"t\":1746410292307,\"v\":1.2942},{\"c\":null,\"p\":1791.1,\"s\":\"BINANCE:ETHUSDT\",\"t\":1746410292358,\"v\":2.7915},{\"c\":null,\"p\":1791.1,\"s\":\"BINANCE:ETHUSDT\",\"t\":1746410292466,\"v\":1.7553},{\"c\":null,\"p\":1791.1,\"s\":\"BINANCE:ETHUSDT\",\"t\":1746410292466,\"v\":0.005},{\"c\":null,\"p\":1791.1,\"s\":\"BINANCE:ETHUSDT\",\"t\":1746410292466,\"v\":1.0312},{\"c\":null,\"p\":1791.1,\"s\":\"BINANCE:ETHUSDT\",\"t\":1746410292511,\"v\":1.6378},{\"c\":null,\"p\":1791.1,\"s\":\"BINANCE:ETHUSDT\",\"t\":1746410292511,\"v\":1.1537},{\"c\":null,\"p\":1791.1,\"s\":\"BINANCE:ETHUSDT\",\"t\":1746410292551,\"v\":2.7915},{\"c\":null,\"p\":1791.1,\"s\":\"BINANCE:ETHUSDT\",\"t\":1746410292608,\"v\":0.6818},{\"c\":null,\"p\":1791.1,\"s\":\"BINANCE:ETHUSDT\",\"t\":1746410292608,\"v\":0.0547},{\"c\":null,\"p\":1791.1,\"s\":\"BINANCE:ETHUSDT\",\"t\":1746410292608,\"v\":0.013},{\"c\":null,\"p\":1791.1,\"s\":\"BINANCE:ETHUSDT\",\"t\":1746410292608,\"v\":0.0087},{\"c\":null,\"p\":1791.1,\"s\":\"BINANCE:ETHUSDT\",\"t\":1746410292608,\"v\":2.0333},{\"c\":null,\"p\":1791.1,\"s\":\"BINANCE:ETHUSDT\",\"t\":1746410292680,\"v\":0.2724},{\"c\":null,\"p\":1791.1,\"s\":\"BINANCE:ETHUSDT\",\"t\":1746410292680,\"v\":0.0028},{\"c\":null,\"p\":1791.1,\"s\":\"BINANCE:ETHUSDT\",\"t\":1746410292680,\"v\":0.006},{\"c\":null,\"p\":1791.1,\"s\":\"BINANCE:ETHUSDT\",\"t\":1746410292680,\"v\":0.006},{\"c\":null,\"p\":1791.1,\"s\":\"BINANCE:ETHUSDT\",\"t\":1746410292680,\"v\":0.0029},{\"c\":null,\"p\":1791.1,\"s\":\"BINANCE:ETHUSDT\",\"t\":1746410292680,\"v\":0.4759},{\"c\":null,\"p\":1791.1,\"s\":\"BINANCE:ETHUSDT\",\"t\":1746410292680,\"v\":0.006},{\"c\":null,\"p\":1791.1,\"s\":\"BINANCE:ETHUSDT\",\"t\":1746410292680,\"v\":0.006},{\"c\":null,\"p\":1791.1,\"s\":\"BINANCE:ETHUSDT\",\"t\":1746410292680,\"v\":0.006},{\"c\":null,\"p\":1791.1,\"s\":\"BINANCE:ETHUSDT\",\"t\":1746410292680,\"v\":0.006},{\"c\":null,\"p\":1791.1,\"s\":\"BINANCE:ETHUSDT\",\"t\":1746410292680,\"v\":0.006},{\"c\":null,\"p\":1791.1,\"s\":\"BINANCE:ETHUSDT\",\"t\":1746410292680,\"v\":0.006},{\"c\":null,\"p\":1791.1,\"s\":\"BINANCE:ETHUSDT\",\"t\":1746410292680,\"v\":0.0084},{\"c\":null,\"p\":1791.1,\"s\":\"BINANCE:ETHUSDT\",\"t\":1746410292680,\"v\":0.006},{\"c\":null,\"p\":1791.1,\"s\":\"BINANCE:ETHUSDT\",\"t\":1746410292680,\"v\":0.006},{\"c\":null,\"p\":1791.1,\"s\":\"BINANCE:ETHUSDT\",\"t\":1746410292680,\"v\":0.6113},{\"c\":null,\"p\":1791.1,\"s\":\"BINANCE:ETHUSDT\",\"t\":1746410292680,\"v\":0.0028},{\"c\":null,\"p\":1791.1,\"s\":\"BINANCE:ETHUSDT\",\"t\":1746410292680,\"v\":0.0394},{\"c\":null,\"p\":1791.1,\"s\":\"BINANCE:ETHUSDT\",\"t\":1746410292680,\"v\":0.0053},{\"c\":null,\"p\":1791.1,\"s\":\"BINANCE:ETHUSDT\",\"t\":1746410292680,\"v\":0.0049},{\"c\":null,\"p\":1791.1,\"s\":\"BINANCE:ETHUSDT\",\"t\":1746410292680,\"v\":0.0029},{\"c\":null,\"p\":1791.1,\"s\":\"BINANCE:ETHUSDT\",\"t\":1746410292680,\"v\":0.0547},{\"c\":null,\"p\":1791.1,\"s\":\"BINANCE:ETHUSDT\",\"t\":1746410292680,\"v\":0.0029},{\"c\":null,\"p\":1791.1,\"s\":\"BINANCE:ETHUSDT\",\"t\":1746410292680,\"v\":1.2449},{\"c\":null,\"p\":1791.1,\"s\":\"BINANCE:ETHUSDT\",\"t\":1746410292758,\"v\":0.006},{\"c\":null,\"p\":1791.1,\"s\":\"BINANCE:ETHUSDT\",\"t\":1746410292758,\"v\":0.0029},{\"c\":null,\"p\":1791.1,\"s\":\"BINANCE:ETHUSDT\",\"t\":1746410292758,\"v\":0.006},{\"c\":null,\"p\":1791.1,\"s\":\"BINANCE:ETHUSDT\",\"t\":1746410292758,\"v\":0.006},{\"c\":null,\"p\":1791.1,\"s\":\"BINANCE:ETHUSDT\",\"t\":1746410292758,\"v\":0.006},{\"c\":null,\"p\":1791.1,\"s\":\"BINANCE:ETHUSDT\",\"t\":1746410292758,\"v\":0.0029}],\"type\":\"trade\"}'\n",
      "++Rcv decoded: fin=1 opcode=1 data=b'{\"data\":[{\"c\":null,\"p\":1791.1,\"s\":\"BINANCE:ETHUSDT\",\"t\":1746410292307,\"v\":0.0002},{\"c\":null,\"p\":1791.1,\"s\":\"BINANCE:ETHUSDT\",\"t\":1746410292307,\"v\":0.0028},{\"c\":null,\"p\":1791.1,\"s\":\"BINANCE:ETHUSDT\",\"t\":1746410292307,\"v\":0.0029},{\"c\":null,\"p\":1791.1,\"s\":\"BINANCE:ETHUSDT\",\"t\":1746410292307,\"v\":0.0066},{\"c\":null,\"p\":1791.1,\"s\":\"BINANCE:ETHUSDT\",\"t\":1746410292307,\"v\":0.0028},{\"c\":null,\"p\":1791.1,\"s\":\"BINANCE:ETHUSDT\",\"t\":1746410292307,\"v\":1.427},{\"c\":null,\"p\":1791.1,\"s\":\"BINANCE:ETHUSDT\",\"t\":1746410292307,\"v\":0.055},{\"c\":null,\"p\":1791.1,\"s\":\"BINANCE:ETHUSDT\",\"t\":1746410292307,\"v\":1.2942},{\"c\":null,\"p\":1791.1,\"s\":\"BINANCE:ETHUSDT\",\"t\":1746410292358,\"v\":2.7915},{\"c\":null,\"p\":1791.1,\"s\":\"BINANCE:ETHUSDT\",\"t\":1746410292466,\"v\":1.7553},{\"c\":null,\"p\":1791.1,\"s\":\"BINANCE:ETHUSDT\",\"t\":1746410292466,\"v\":0.005},{\"c\":null,\"p\":1791.1,\"s\":\"BINANCE:ETHUSDT\",\"t\":1746410292466,\"v\":1.0312},{\"c\":null,\"p\":1791.1,\"s\":\"BINANCE:ETHUSDT\",\"t\":1746410292511,\"v\":1.6378},{\"c\":null,\"p\":1791.1,\"s\":\"BINANCE:ETHUSDT\",\"t\":1746410292511,\"v\":1.1537},{\"c\":null,\"p\":1791.1,\"s\":\"BINANCE:ETHUSDT\",\"t\":1746410292551,\"v\":2.7915},{\"c\":null,\"p\":1791.1,\"s\":\"BINANCE:ETHUSDT\",\"t\":1746410292608,\"v\":0.6818},{\"c\":null,\"p\":1791.1,\"s\":\"BINANCE:ETHUSDT\",\"t\":1746410292608,\"v\":0.0547},{\"c\":null,\"p\":1791.1,\"s\":\"BINANCE:ETHUSDT\",\"t\":1746410292608,\"v\":0.013},{\"c\":null,\"p\":1791.1,\"s\":\"BINANCE:ETHUSDT\",\"t\":1746410292608,\"v\":0.0087},{\"c\":null,\"p\":1791.1,\"s\":\"BINANCE:ETHUSDT\",\"t\":1746410292608,\"v\":2.0333},{\"c\":null,\"p\":1791.1,\"s\":\"BINANCE:ETHUSDT\",\"t\":1746410292680,\"v\":0.2724},{\"c\":null,\"p\":1791.1,\"s\":\"BINANCE:ETHUSDT\",\"t\":1746410292680,\"v\":0.0028},{\"c\":null,\"p\":1791.1,\"s\":\"BINANCE:ETHUSDT\",\"t\":1746410292680,\"v\":0.006},{\"c\":null,\"p\":1791.1,\"s\":\"BINANCE:ETHUSDT\",\"t\":1746410292680,\"v\":0.006},{\"c\":null,\"p\":1791.1,\"s\":\"BINANCE:ETHUSDT\",\"t\":1746410292680,\"v\":0.0029},{\"c\":null,\"p\":1791.1,\"s\":\"BINANCE:ETHUSDT\",\"t\":1746410292680,\"v\":0.4759},{\"c\":null,\"p\":1791.1,\"s\":\"BINANCE:ETHUSDT\",\"t\":1746410292680,\"v\":0.006},{\"c\":null,\"p\":1791.1,\"s\":\"BINANCE:ETHUSDT\",\"t\":1746410292680,\"v\":0.006},{\"c\":null,\"p\":1791.1,\"s\":\"BINANCE:ETHUSDT\",\"t\":1746410292680,\"v\":0.006},{\"c\":null,\"p\":1791.1,\"s\":\"BINANCE:ETHUSDT\",\"t\":1746410292680,\"v\":0.006},{\"c\":null,\"p\":1791.1,\"s\":\"BINANCE:ETHUSDT\",\"t\":1746410292680,\"v\":0.006},{\"c\":null,\"p\":1791.1,\"s\":\"BINANCE:ETHUSDT\",\"t\":1746410292680,\"v\":0.006},{\"c\":null,\"p\":1791.1,\"s\":\"BINANCE:ETHUSDT\",\"t\":1746410292680,\"v\":0.0084},{\"c\":null,\"p\":1791.1,\"s\":\"BINANCE:ETHUSDT\",\"t\":1746410292680,\"v\":0.006},{\"c\":null,\"p\":1791.1,\"s\":\"BINANCE:ETHUSDT\",\"t\":1746410292680,\"v\":0.006},{\"c\":null,\"p\":1791.1,\"s\":\"BINANCE:ETHUSDT\",\"t\":1746410292680,\"v\":0.6113},{\"c\":null,\"p\":1791.1,\"s\":\"BINANCE:ETHUSDT\",\"t\":1746410292680,\"v\":0.0028},{\"c\":null,\"p\":1791.1,\"s\":\"BINANCE:ETHUSDT\",\"t\":1746410292680,\"v\":0.0394},{\"c\":null,\"p\":1791.1,\"s\":\"BINANCE:ETHUSDT\",\"t\":1746410292680,\"v\":0.0053},{\"c\":null,\"p\":1791.1,\"s\":\"BINANCE:ETHUSDT\",\"t\":1746410292680,\"v\":0.0049},{\"c\":null,\"p\":1791.1,\"s\":\"BINANCE:ETHUSDT\",\"t\":1746410292680,\"v\":0.0029},{\"c\":null,\"p\":1791.1,\"s\":\"BINANCE:ETHUSDT\",\"t\":1746410292680,\"v\":0.0547},{\"c\":null,\"p\":1791.1,\"s\":\"BINANCE:ETHUSDT\",\"t\":1746410292680,\"v\":0.0029},{\"c\":null,\"p\":1791.1,\"s\":\"BINANCE:ETHUSDT\",\"t\":1746410292680,\"v\":1.2449},{\"c\":null,\"p\":1791.1,\"s\":\"BINANCE:ETHUSDT\",\"t\":1746410292758,\"v\":0.006},{\"c\":null,\"p\":1791.1,\"s\":\"BINANCE:ETHUSDT\",\"t\":1746410292758,\"v\":0.0029},{\"c\":null,\"p\":1791.1,\"s\":\"BINANCE:ETHUSDT\",\"t\":1746410292758,\"v\":0.006},{\"c\":null,\"p\":1791.1,\"s\":\"BINANCE:ETHUSDT\",\"t\":1746410292758,\"v\":0.006},{\"c\":null,\"p\":1791.1,\"s\":\"BINANCE:ETHUSDT\",\"t\":1746410292758,\"v\":0.006},{\"c\":null,\"p\":1791.1,\"s\":\"BINANCE:ETHUSDT\",\"t\":1746410292758,\"v\":0.0029}],\"type\":\"trade\"}'\n",
      "++Rcv raw: b'\\x81~\\x0eu{\"data\":[{\"c\":null,\"p\":1791.1,\"s\":\"BINANCE:ETHUSDT\",\"t\":1746410292758,\"v\":2.7617},{\"c\":null,\"p\":1791.1,\"s\":\"BINANCE:ETHUSDT\",\"t\":1746410292813,\"v\":2.7915},{\"c\":null,\"p\":1791.1,\"s\":\"BINANCE:ETHUSDT\",\"t\":1746410292864,\"v\":0.006},{\"c\":null,\"p\":1791.1,\"s\":\"BINANCE:ETHUSDT\",\"t\":1746410292864,\"v\":0.0029},{\"c\":null,\"p\":1791.1,\"s\":\"BINANCE:ETHUSDT\",\"t\":1746410292864,\"v\":0.006},{\"c\":null,\"p\":1791.1,\"s\":\"BINANCE:ETHUSDT\",\"t\":1746410292864,\"v\":0.039},{\"c\":null,\"p\":1791.1,\"s\":\"BINANCE:ETHUSDT\",\"t\":1746410292864,\"v\":0.006},{\"c\":null,\"p\":1791.1,\"s\":\"BINANCE:ETHUSDT\",\"t\":1746410292864,\"v\":0.006},{\"c\":null,\"p\":1791.1,\"s\":\"BINANCE:ETHUSDT\",\"t\":1746410292864,\"v\":0.0029},{\"c\":null,\"p\":1791.1,\"s\":\"BINANCE:ETHUSDT\",\"t\":1746410292864,\"v\":0.006},{\"c\":null,\"p\":1791.1,\"s\":\"BINANCE:ETHUSDT\",\"t\":1746410292864,\"v\":0.006},{\"c\":null,\"p\":1791.1,\"s\":\"BINANCE:ETHUSDT\",\"t\":1746410292864,\"v\":0.0547},{\"c\":null,\"p\":1791.1,\"s\":\"BINANCE:ETHUSDT\",\"t\":1746410292864,\"v\":0.0028},{\"c\":null,\"p\":1791.1,\"s\":\"BINANCE:ETHUSDT\",\"t\":1746410292864,\"v\":0.0028},{\"c\":null,\"p\":1791.11,\"s\":\"BINANCE:ETHUSDT\",\"t\":1746410292918,\"v\":0.0029},{\"c\":null,\"p\":1791.11,\"s\":\"BINANCE:ETHUSDT\",\"t\":1746410292918,\"v\":0.0033},{\"c\":null,\"p\":1791.11,\"s\":\"BINANCE:ETHUSDT\",\"t\":1746410292918,\"v\":0.0284},{\"c\":null,\"p\":1791.11,\"s\":\"BINANCE:ETHUSDT\",\"t\":1746410292918,\"v\":0.0029},{\"c\":null,\"p\":1791.11,\"s\":\"BINANCE:ETHUSDT\",\"t\":1746410292918,\"v\":0.0028},{\"c\":null,\"p\":1791.11,\"s\":\"BINANCE:ETHUSDT\",\"t\":1746410292918,\"v\":0.0411},{\"c\":null,\"p\":1791.11,\"s\":\"BINANCE:ETHUSDT\",\"t\":1746410292918,\"v\":0.005},{\"c\":null,\"p\":1791.11,\"s\":\"BINANCE:ETHUSDT\",\"t\":1746410292918,\"v\":0.006},{\"c\":null,\"p\":1791.11,\"s\":\"BINANCE:ETHUSDT\",\"t\":1746410292918,\"v\":0.006},{\"c\":null,\"p\":1791.11,\"s\":\"BINANCE:ETHUSDT\",\"t\":1746410292918,\"v\":0.0029},{\"c\":null,\"p\":1791.11,\"s\":\"BINANCE:ETHUSDT\",\"t\":1746410292918,\"v\":0.0029},{\"c\":null,\"p\":1791.11,\"s\":\"BINANCE:ETHUSDT\",\"t\":1746410292918,\"v\":0.0028},{\"c\":null,\"p\":1791.12,\"s\":\"BINANCE:ETHUSDT\",\"t\":1746410292918,\"v\":0.0507},{\"c\":null,\"p\":1791.12,\"s\":\"BINANCE:ETHUSDT\",\"t\":1746410292918,\"v\":0.0029},{\"c\":null,\"p\":1791.12,\"s\":\"BINANCE:ETHUSDT\",\"t\":1746410292918,\"v\":0.0033},{\"c\":null,\"p\":1791.12,\"s\":\"BINANCE:ETHUSDT\",\"t\":1746410292918,\"v\":0.0029},{\"c\":null,\"p\":1791.12,\"s\":\"BINANCE:ETHUSDT\",\"t\":1746410292918,\"v\":0.0029},{\"c\":null,\"p\":1791.12,\"s\":\"BINANCE:ETHUSDT\",\"t\":1746410292918,\"v\":0.0029},{\"c\":null,\"p\":1791.12,\"s\":\"BINANCE:ETHUSDT\",\"t\":1746410292918,\"v\":0.0029},{\"c\":null,\"p\":1791.12,\"s\":\"BINANCE:ETHUSDT\",\"t\":1746410292918,\"v\":0.0029},{\"c\":null,\"p\":1791.13,\"s\":\"BINANCE:ETHUSDT\",\"t\":1746410292918,\"v\":0.0223},{\"c\":null,\"p\":1791.13,\"s\":\"BINANCE:ETHUSDT\",\"t\":1746410292918,\"v\":0.0029},{\"c\":null,\"p\":1791.13,\"s\":\"BINANCE:ETHUSDT\",\"t\":1746410292918,\"v\":0.0506},{\"c\":null,\"p\":1791.13,\"s\":\"BINANCE:ETHUSDT\",\"t\":1746410292918,\"v\":0.0506},{\"c\":null,\"p\":1791.14,\"s\":\"BINANCE:ETHUSDT\",\"t\":1746410292918,\"v\":0.0029},{\"c\":null,\"p\":1791.14,\"s\":\"BINANCE:ETHUSDT\",\"t\":1746410292918,\"v\":0.0029},{\"c\":null,\"p\":1791.15,\"s\":\"BINANCE:ETHUSDT\",\"t\":1746410292918,\"v\":0.0253},{\"c\":null,\"p\":1791.15,\"s\":\"BINANCE:ETHUSDT\",\"t\":1746410292918,\"v\":0.0029},{\"c\":null,\"p\":1791.16,\"s\":\"BINANCE:ETHUSDT\",\"t\":1746410292918,\"v\":0.0033},{\"c\":null,\"p\":1791.16,\"s\":\"BINANCE:ETHUSDT\",\"t\":1746410292918,\"v\":0.0029},{\"c\":null,\"p\":1791.16,\"s\":\"BINANCE:ETHUSDT\",\"t\":1746410292918,\"v\":0.0029},{\"c\":null,\"p\":1791.17,\"s\":\"BINANCE:ETHUSDT\",\"t\":1746410292918,\"v\":0.0029},{\"c\":null,\"p\":1791.18,\"s\":\"BINANCE:ETHUSDT\",\"t\":1746410292918,\"v\":0.0058},{\"c\":null,\"p\":1791.18,\"s\":\"BINANCE:ETHUSDT\",\"t\":1746410292918,\"v\":0.0028},{\"c\":null,\"p\":1791.18,\"s\":\"BINANCE:ETHUSDT\",\"t\":1746410292918,\"v\":0.0029},{\"c\":null,\"p\":1791.19,\"s\":\"BINANCE:ETHUSDT\",\"t\":1746410292918,\"v\":0.0256}],\"type\":\"trade\"}'\n",
      "++Rcv decoded: fin=1 opcode=1 data=b'{\"data\":[{\"c\":null,\"p\":1791.1,\"s\":\"BINANCE:ETHUSDT\",\"t\":1746410292758,\"v\":2.7617},{\"c\":null,\"p\":1791.1,\"s\":\"BINANCE:ETHUSDT\",\"t\":1746410292813,\"v\":2.7915},{\"c\":null,\"p\":1791.1,\"s\":\"BINANCE:ETHUSDT\",\"t\":1746410292864,\"v\":0.006},{\"c\":null,\"p\":1791.1,\"s\":\"BINANCE:ETHUSDT\",\"t\":1746410292864,\"v\":0.0029},{\"c\":null,\"p\":1791.1,\"s\":\"BINANCE:ETHUSDT\",\"t\":1746410292864,\"v\":0.006},{\"c\":null,\"p\":1791.1,\"s\":\"BINANCE:ETHUSDT\",\"t\":1746410292864,\"v\":0.039},{\"c\":null,\"p\":1791.1,\"s\":\"BINANCE:ETHUSDT\",\"t\":1746410292864,\"v\":0.006},{\"c\":null,\"p\":1791.1,\"s\":\"BINANCE:ETHUSDT\",\"t\":1746410292864,\"v\":0.006},{\"c\":null,\"p\":1791.1,\"s\":\"BINANCE:ETHUSDT\",\"t\":1746410292864,\"v\":0.0029},{\"c\":null,\"p\":1791.1,\"s\":\"BINANCE:ETHUSDT\",\"t\":1746410292864,\"v\":0.006},{\"c\":null,\"p\":1791.1,\"s\":\"BINANCE:ETHUSDT\",\"t\":1746410292864,\"v\":0.006},{\"c\":null,\"p\":1791.1,\"s\":\"BINANCE:ETHUSDT\",\"t\":1746410292864,\"v\":0.0547},{\"c\":null,\"p\":1791.1,\"s\":\"BINANCE:ETHUSDT\",\"t\":1746410292864,\"v\":0.0028},{\"c\":null,\"p\":1791.1,\"s\":\"BINANCE:ETHUSDT\",\"t\":1746410292864,\"v\":0.0028},{\"c\":null,\"p\":1791.11,\"s\":\"BINANCE:ETHUSDT\",\"t\":1746410292918,\"v\":0.0029},{\"c\":null,\"p\":1791.11,\"s\":\"BINANCE:ETHUSDT\",\"t\":1746410292918,\"v\":0.0033},{\"c\":null,\"p\":1791.11,\"s\":\"BINANCE:ETHUSDT\",\"t\":1746410292918,\"v\":0.0284},{\"c\":null,\"p\":1791.11,\"s\":\"BINANCE:ETHUSDT\",\"t\":1746410292918,\"v\":0.0029},{\"c\":null,\"p\":1791.11,\"s\":\"BINANCE:ETHUSDT\",\"t\":1746410292918,\"v\":0.0028},{\"c\":null,\"p\":1791.11,\"s\":\"BINANCE:ETHUSDT\",\"t\":1746410292918,\"v\":0.0411},{\"c\":null,\"p\":1791.11,\"s\":\"BINANCE:ETHUSDT\",\"t\":1746410292918,\"v\":0.005},{\"c\":null,\"p\":1791.11,\"s\":\"BINANCE:ETHUSDT\",\"t\":1746410292918,\"v\":0.006},{\"c\":null,\"p\":1791.11,\"s\":\"BINANCE:ETHUSDT\",\"t\":1746410292918,\"v\":0.006},{\"c\":null,\"p\":1791.11,\"s\":\"BINANCE:ETHUSDT\",\"t\":1746410292918,\"v\":0.0029},{\"c\":null,\"p\":1791.11,\"s\":\"BINANCE:ETHUSDT\",\"t\":1746410292918,\"v\":0.0029},{\"c\":null,\"p\":1791.11,\"s\":\"BINANCE:ETHUSDT\",\"t\":1746410292918,\"v\":0.0028},{\"c\":null,\"p\":1791.12,\"s\":\"BINANCE:ETHUSDT\",\"t\":1746410292918,\"v\":0.0507},{\"c\":null,\"p\":1791.12,\"s\":\"BINANCE:ETHUSDT\",\"t\":1746410292918,\"v\":0.0029},{\"c\":null,\"p\":1791.12,\"s\":\"BINANCE:ETHUSDT\",\"t\":1746410292918,\"v\":0.0033},{\"c\":null,\"p\":1791.12,\"s\":\"BINANCE:ETHUSDT\",\"t\":1746410292918,\"v\":0.0029},{\"c\":null,\"p\":1791.12,\"s\":\"BINANCE:ETHUSDT\",\"t\":1746410292918,\"v\":0.0029},{\"c\":null,\"p\":1791.12,\"s\":\"BINANCE:ETHUSDT\",\"t\":1746410292918,\"v\":0.0029},{\"c\":null,\"p\":1791.12,\"s\":\"BINANCE:ETHUSDT\",\"t\":1746410292918,\"v\":0.0029},{\"c\":null,\"p\":1791.12,\"s\":\"BINANCE:ETHUSDT\",\"t\":1746410292918,\"v\":0.0029},{\"c\":null,\"p\":1791.13,\"s\":\"BINANCE:ETHUSDT\",\"t\":1746410292918,\"v\":0.0223},{\"c\":null,\"p\":1791.13,\"s\":\"BINANCE:ETHUSDT\",\"t\":1746410292918,\"v\":0.0029},{\"c\":null,\"p\":1791.13,\"s\":\"BINANCE:ETHUSDT\",\"t\":1746410292918,\"v\":0.0506},{\"c\":null,\"p\":1791.13,\"s\":\"BINANCE:ETHUSDT\",\"t\":1746410292918,\"v\":0.0506},{\"c\":null,\"p\":1791.14,\"s\":\"BINANCE:ETHUSDT\",\"t\":1746410292918,\"v\":0.0029},{\"c\":null,\"p\":1791.14,\"s\":\"BINANCE:ETHUSDT\",\"t\":1746410292918,\"v\":0.0029},{\"c\":null,\"p\":1791.15,\"s\":\"BINANCE:ETHUSDT\",\"t\":1746410292918,\"v\":0.0253},{\"c\":null,\"p\":1791.15,\"s\":\"BINANCE:ETHUSDT\",\"t\":1746410292918,\"v\":0.0029},{\"c\":null,\"p\":1791.16,\"s\":\"BINANCE:ETHUSDT\",\"t\":1746410292918,\"v\":0.0033},{\"c\":null,\"p\":1791.16,\"s\":\"BINANCE:ETHUSDT\",\"t\":1746410292918,\"v\":0.0029},{\"c\":null,\"p\":1791.16,\"s\":\"BINANCE:ETHUSDT\",\"t\":1746410292918,\"v\":0.0029},{\"c\":null,\"p\":1791.17,\"s\":\"BINANCE:ETHUSDT\",\"t\":1746410292918,\"v\":0.0029},{\"c\":null,\"p\":1791.18,\"s\":\"BINANCE:ETHUSDT\",\"t\":1746410292918,\"v\":0.0058},{\"c\":null,\"p\":1791.18,\"s\":\"BINANCE:ETHUSDT\",\"t\":1746410292918,\"v\":0.0028},{\"c\":null,\"p\":1791.18,\"s\":\"BINANCE:ETHUSDT\",\"t\":1746410292918,\"v\":0.0029},{\"c\":null,\"p\":1791.19,\"s\":\"BINANCE:ETHUSDT\",\"t\":1746410292918,\"v\":0.0256}],\"type\":\"trade\"}'\n",
      "++Rcv raw: b'\\x81~\\x01\\xcf{\"data\":[{\"c\":null,\"p\":1791.19,\"s\":\"BINANCE:ETHUSDT\",\"t\":1746410292918,\"v\":0.0029},{\"c\":null,\"p\":1791.19,\"s\":\"BINANCE:ETHUSDT\",\"t\":1746410292918,\"v\":0.0029},{\"c\":null,\"p\":1791.19,\"s\":\"BINANCE:ETHUSDT\",\"t\":1746410292918,\"v\":0.3},{\"c\":null,\"p\":1791.2,\"s\":\"BINANCE:ETHUSDT\",\"t\":1746410292918,\"v\":0.0028},{\"c\":null,\"p\":1791.2,\"s\":\"BINANCE:ETHUSDT\",\"t\":1746410292918,\"v\":0.0172},{\"c\":null,\"p\":1791.2,\"s\":\"BINANCE:ETHUSDT\",\"t\":1746410293064,\"v\":0.0028}],\"type\":\"trade\"}'\n",
      "++Rcv decoded: fin=1 opcode=1 data=b'{\"data\":[{\"c\":null,\"p\":1791.19,\"s\":\"BINANCE:ETHUSDT\",\"t\":1746410292918,\"v\":0.0029},{\"c\":null,\"p\":1791.19,\"s\":\"BINANCE:ETHUSDT\",\"t\":1746410292918,\"v\":0.0029},{\"c\":null,\"p\":1791.19,\"s\":\"BINANCE:ETHUSDT\",\"t\":1746410292918,\"v\":0.3},{\"c\":null,\"p\":1791.2,\"s\":\"BINANCE:ETHUSDT\",\"t\":1746410292918,\"v\":0.0028},{\"c\":null,\"p\":1791.2,\"s\":\"BINANCE:ETHUSDT\",\"t\":1746410292918,\"v\":0.0172},{\"c\":null,\"p\":1791.2,\"s\":\"BINANCE:ETHUSDT\",\"t\":1746410293064,\"v\":0.0028}],\"type\":\"trade\"}'\n",
      "++Sent raw: b'\\x88\\x82\\xb1r#\\x85\\xb2\\x9a'\n",
      "++Sent decoded: fin=1 opcode=8 data=b'\\x03\\xe8'\n",
      "error from callback <function on_close at 0x00000269900E1120>: on_close() takes 1 positional argument but 3 were given\n"
     ]
    },
    {
     "name": "stdout",
     "output_type": "stream",
     "text": [
      "200 rows reached — closing websocket\n",
      "WebSocket error: on_close() takes 1 positional argument but 3 were given\n"
     ]
    },
    {
     "data": {
      "text/plain": [
       "False"
      ]
     },
     "execution_count": 5,
     "metadata": {},
     "output_type": "execute_result"
    }
   ],
   "source": [
    "#initializing the websocket\n",
    "rows = []\n",
    "on_message_fn = create_on_message(rows)\n",
    "\n",
    "websocket.enableTrace(True) #denoises the data\n",
    "ws = websocket.WebSocketApp(f\"wss://ws.finnhub.io?token={API_KEY}\",\n",
    "                            on_message=on_message_fn,\n",
    "                            on_error=on_error,\n",
    "                            on_close=on_close)\n",
    "ws.on_open = on_open #opens the websocket\n",
    "ws.run_forever() #begins running the websocket"
   ]
  },
  {
   "cell_type": "code",
   "execution_count": 6,
   "id": "f33b6054",
   "metadata": {},
   "outputs": [
    {
     "data": {
      "text/html": [
       "<div>\n",
       "<style scoped>\n",
       "    .dataframe tbody tr th:only-of-type {\n",
       "        vertical-align: middle;\n",
       "    }\n",
       "\n",
       "    .dataframe tbody tr th {\n",
       "        vertical-align: top;\n",
       "    }\n",
       "\n",
       "    .dataframe thead th {\n",
       "        text-align: right;\n",
       "    }\n",
       "</style>\n",
       "<table border=\"1\" class=\"dataframe\">\n",
       "  <thead>\n",
       "    <tr style=\"text-align: right;\">\n",
       "      <th></th>\n",
       "      <th>timestamp</th>\n",
       "      <th>timestamp_ms</th>\n",
       "      <th>symbol</th>\n",
       "      <th>price</th>\n",
       "      <th>volume</th>\n",
       "      <th>recieved_at</th>\n",
       "    </tr>\n",
       "  </thead>\n",
       "  <tbody>\n",
       "    <tr>\n",
       "      <th>0</th>\n",
       "      <td>2025-05-05 01:58:01 UTC</td>\n",
       "      <td>1.746410e+12</td>\n",
       "      <td>BINANCE:ETHUSDT</td>\n",
       "      <td>1791.00</td>\n",
       "      <td>0.0625</td>\n",
       "      <td>2025-05-05 01:58:02 UTC</td>\n",
       "    </tr>\n",
       "    <tr>\n",
       "      <th>1</th>\n",
       "      <td>2025-05-05 01:58:01 UTC</td>\n",
       "      <td>1.746410e+12</td>\n",
       "      <td>BINANCE:ETHUSDT</td>\n",
       "      <td>1791.01</td>\n",
       "      <td>0.0028</td>\n",
       "      <td>2025-05-05 01:58:02 UTC</td>\n",
       "    </tr>\n",
       "    <tr>\n",
       "      <th>2</th>\n",
       "      <td>2025-05-05 01:58:01 UTC</td>\n",
       "      <td>1.746410e+12</td>\n",
       "      <td>BINANCE:ETHUSDT</td>\n",
       "      <td>1791.01</td>\n",
       "      <td>0.0007</td>\n",
       "      <td>2025-05-05 01:58:02 UTC</td>\n",
       "    </tr>\n",
       "    <tr>\n",
       "      <th>3</th>\n",
       "      <td>2025-05-05 01:58:02 UTC</td>\n",
       "      <td>1.746410e+12</td>\n",
       "      <td>BINANCE:ETHUSDT</td>\n",
       "      <td>1791.01</td>\n",
       "      <td>0.0748</td>\n",
       "      <td>2025-05-05 01:58:03 UTC</td>\n",
       "    </tr>\n",
       "    <tr>\n",
       "      <th>4</th>\n",
       "      <td>2025-05-05 01:58:02 UTC</td>\n",
       "      <td>1.746410e+12</td>\n",
       "      <td>BINANCE:ETHUSDT</td>\n",
       "      <td>1791.01</td>\n",
       "      <td>0.9252</td>\n",
       "      <td>2025-05-05 01:58:03 UTC</td>\n",
       "    </tr>\n",
       "    <tr>\n",
       "      <th>...</th>\n",
       "      <td>...</td>\n",
       "      <td>...</td>\n",
       "      <td>...</td>\n",
       "      <td>...</td>\n",
       "      <td>...</td>\n",
       "      <td>...</td>\n",
       "    </tr>\n",
       "    <tr>\n",
       "      <th>196</th>\n",
       "      <td>2025-05-05 01:58:12 UTC</td>\n",
       "      <td>1.746410e+12</td>\n",
       "      <td>BINANCE:ETHUSDT</td>\n",
       "      <td>1791.17</td>\n",
       "      <td>0.0029</td>\n",
       "      <td>2025-05-05 01:58:13 UTC</td>\n",
       "    </tr>\n",
       "    <tr>\n",
       "      <th>197</th>\n",
       "      <td>2025-05-05 01:58:12 UTC</td>\n",
       "      <td>1.746410e+12</td>\n",
       "      <td>BINANCE:ETHUSDT</td>\n",
       "      <td>1791.18</td>\n",
       "      <td>0.0058</td>\n",
       "      <td>2025-05-05 01:58:13 UTC</td>\n",
       "    </tr>\n",
       "    <tr>\n",
       "      <th>198</th>\n",
       "      <td>2025-05-05 01:58:12 UTC</td>\n",
       "      <td>1.746410e+12</td>\n",
       "      <td>BINANCE:ETHUSDT</td>\n",
       "      <td>1791.18</td>\n",
       "      <td>0.0028</td>\n",
       "      <td>2025-05-05 01:58:13 UTC</td>\n",
       "    </tr>\n",
       "    <tr>\n",
       "      <th>199</th>\n",
       "      <td>2025-05-05 01:58:12 UTC</td>\n",
       "      <td>1.746410e+12</td>\n",
       "      <td>BINANCE:ETHUSDT</td>\n",
       "      <td>1791.18</td>\n",
       "      <td>0.0029</td>\n",
       "      <td>2025-05-05 01:58:13 UTC</td>\n",
       "    </tr>\n",
       "    <tr>\n",
       "      <th>200</th>\n",
       "      <td>2025-05-05 01:58:12 UTC</td>\n",
       "      <td>1.746410e+12</td>\n",
       "      <td>BINANCE:ETHUSDT</td>\n",
       "      <td>1791.19</td>\n",
       "      <td>0.0256</td>\n",
       "      <td>2025-05-05 01:58:13 UTC</td>\n",
       "    </tr>\n",
       "  </tbody>\n",
       "</table>\n",
       "<p>201 rows × 6 columns</p>\n",
       "</div>"
      ],
      "text/plain": [
       "                   timestamp  timestamp_ms           symbol    price  volume  \\\n",
       "0    2025-05-05 01:58:01 UTC  1.746410e+12  BINANCE:ETHUSDT  1791.00  0.0625   \n",
       "1    2025-05-05 01:58:01 UTC  1.746410e+12  BINANCE:ETHUSDT  1791.01  0.0028   \n",
       "2    2025-05-05 01:58:01 UTC  1.746410e+12  BINANCE:ETHUSDT  1791.01  0.0007   \n",
       "3    2025-05-05 01:58:02 UTC  1.746410e+12  BINANCE:ETHUSDT  1791.01  0.0748   \n",
       "4    2025-05-05 01:58:02 UTC  1.746410e+12  BINANCE:ETHUSDT  1791.01  0.9252   \n",
       "..                       ...           ...              ...      ...     ...   \n",
       "196  2025-05-05 01:58:12 UTC  1.746410e+12  BINANCE:ETHUSDT  1791.17  0.0029   \n",
       "197  2025-05-05 01:58:12 UTC  1.746410e+12  BINANCE:ETHUSDT  1791.18  0.0058   \n",
       "198  2025-05-05 01:58:12 UTC  1.746410e+12  BINANCE:ETHUSDT  1791.18  0.0028   \n",
       "199  2025-05-05 01:58:12 UTC  1.746410e+12  BINANCE:ETHUSDT  1791.18  0.0029   \n",
       "200  2025-05-05 01:58:12 UTC  1.746410e+12  BINANCE:ETHUSDT  1791.19  0.0256   \n",
       "\n",
       "                 recieved_at  \n",
       "0    2025-05-05 01:58:02 UTC  \n",
       "1    2025-05-05 01:58:02 UTC  \n",
       "2    2025-05-05 01:58:02 UTC  \n",
       "3    2025-05-05 01:58:03 UTC  \n",
       "4    2025-05-05 01:58:03 UTC  \n",
       "..                       ...  \n",
       "196  2025-05-05 01:58:13 UTC  \n",
       "197  2025-05-05 01:58:13 UTC  \n",
       "198  2025-05-05 01:58:13 UTC  \n",
       "199  2025-05-05 01:58:13 UTC  \n",
       "200  2025-05-05 01:58:13 UTC  \n",
       "\n",
       "[201 rows x 6 columns]"
      ]
     },
     "execution_count": 6,
     "metadata": {},
     "output_type": "execute_result"
    }
   ],
   "source": [
    "pd.read_sql(\n",
    "'''\n",
    "SELECT *\n",
    "FROM price_ticks\n",
    "'''\n",
    ", conn)"
   ]
  },
  {
   "cell_type": "code",
   "execution_count": 7,
   "id": "f0b25534",
   "metadata": {},
   "outputs": [],
   "source": [
    "conn.close() #close the connection"
   ]
  },
  {
   "cell_type": "code",
   "execution_count": 8,
   "id": "abf286f6",
   "metadata": {},
   "outputs": [
    {
     "data": {
      "image/png": "[encoded data removed]",
      "text/plain": [
       "<Figure size 1200x600 with 1 Axes>"
      ]
     },
     "metadata": {},
     "output_type": "display_data"
    }
   ],
   "source": [
    "import sqlite3\n",
    "import pandas as pd\n",
    "import matplotlib.pyplot as plt\n",
    "\n",
    "# Step 1: Load data\n",
    "conn = sqlite3.connect('db/pricing_data.db')\n",
    "df = pd.read_sql_query(\"SELECT * FROM price_ticks\", conn)\n",
    "\n",
    "# Step 2: Convert timestamp column to datetime\n",
    "df['timestamp'] = pd.to_datetime(df['timestamp'])\n",
    "\n",
    "# Optional: Sort to ensure chronological order\n",
    "df = df.sort_values('timestamp')\n",
    "\n",
    "# Step 3: Plot price over time\n",
    "plt.figure(figsize=(12, 6))\n",
    "plt.plot(df['timestamp'], df['price'], linewidth=1)\n",
    "plt.title('ETH/USDT Price Over Time (Binance)')\n",
    "plt.xlabel('Time')\n",
    "plt.ylabel('Price (USDT)')\n",
    "plt.grid(True)\n",
    "plt.tight_layout()\n",
    "plt.show()\n"
   ]
  }
 ],
 "metadata": {
  "kernelspec": {
   "display_name": "base",
   "language": "python",
   "name": "python3"
  },
  "language_info": {
   "codemirror_mode": {
    "name": "ipython",
    "version": 3
   },
   "file_extension": ".py",
   "mimetype": "text/x-python",
   "name": "python",
   "nbconvert_exporter": "python",
   "pygments_lexer": "ipython3",
   "version": "3.12.4"
  }
 },
 "nbformat": 4,
 "nbformat_minor": 5
}
